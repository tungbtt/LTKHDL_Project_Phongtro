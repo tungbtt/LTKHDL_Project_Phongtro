{
 "cells": [
  {
   "cell_type": "markdown",
   "metadata": {},
   "source": [
    "# ĐỒ ÁN THỰC HÀNH: LẬP TRÌNH CHO KHOA HỌC DỮ LIỆU\n",
    "## Chủ đề: **Giá phòng trọ ở khu vực Hồ Chí Minh**\n",
    "- Môn học: Lập Trình Cho Khoa Học Dữ Liệu\n",
    "- Nhóm: 6"
   ]
  },
  {
   "cell_type": "markdown",
   "metadata": {},
   "source": [
    "## 1. Thu thập dữ liệu"
   ]
  },
  {
   "cell_type": "markdown",
   "metadata": {},
   "source": [
    "Mô tả dữ liệu: Đây là bộ dữ liệu về giá thuê phòng trọ tính đến ngày 07/01/2023 ở thành phố Hồ Chí Minh từ trang web http://phongtro123.com/"
   ]
  },
  {
   "cell_type": "markdown",
   "metadata": {},
   "source": [
    "Cách thu thập dữ liệu: sử dụng thư viện scrapy để crawl dữ liệu trực tiếp từ http://phongtro123.com/, chi tiết cách thu thập được trình bày ở file `Collecting_data.ipynb`"
   ]
  },
  {
   "cell_type": "markdown",
   "metadata": {},
   "source": [
    "## 2. Khám phá và tiền xử lý dữ liệu"
   ]
  },
  {
   "cell_type": "markdown",
   "metadata": {},
   "source": [
    "### Import các thư viện"
   ]
  },
  {
   "cell_type": "code",
   "execution_count": 1,
   "metadata": {},
   "outputs": [],
   "source": [
    "import pandas as pd\n",
    "import matplotlib.pyplot as plt\n",
    "import numpy as np\n",
    "import seaborn as sns\n",
    "import re\n",
    "sns.set_theme()\n",
    "\n",
    "import warnings\n",
    "warnings.simplefilter('ignore')\n",
    "\n",
    "\n",
    "#!pip install pycountry\n",
    "import pycountry\n",
    "\n",
    "from scipy import stats\n",
    "import matplotlib.patches as mpatches"
   ]
  },
  {
   "cell_type": "markdown",
   "metadata": {},
   "source": [
    "### Đọc dữ liệu từ file json vào dataframe"
   ]
  },
  {
   "cell_type": "markdown",
   "metadata": {},
   "source": [
    "File `post_info.json` cho biết những thông tin về việc thuê phòng trọ khu vực Tp.HCM."
   ]
  },
  {
   "cell_type": "code",
   "execution_count": 2,
   "metadata": {},
   "outputs": [
    {
     "data": {
      "text/html": [
       "<div>\n",
       "<style scoped>\n",
       "    .dataframe tbody tr th:only-of-type {\n",
       "        vertical-align: middle;\n",
       "    }\n",
       "\n",
       "    .dataframe tbody tr th {\n",
       "        vertical-align: top;\n",
       "    }\n",
       "\n",
       "    .dataframe thead th {\n",
       "        text-align: right;\n",
       "    }\n",
       "</style>\n",
       "<table border=\"1\" class=\"dataframe\">\n",
       "  <thead>\n",
       "    <tr style=\"text-align: right;\">\n",
       "      <th></th>\n",
       "      <th>Title</th>\n",
       "      <th>Address</th>\n",
       "      <th>Price</th>\n",
       "      <th>Acreage</th>\n",
       "      <th>Content</th>\n",
       "      <th>Id</th>\n",
       "      <th>Type_post</th>\n",
       "      <th>Tenant</th>\n",
       "      <th>Posting_time</th>\n",
       "      <th>End_time</th>\n",
       "      <th>Contact</th>\n",
       "      <th>Phone_number</th>\n",
       "      <th>Zalo</th>\n",
       "      <th>Link</th>\n",
       "    </tr>\n",
       "  </thead>\n",
       "  <tbody>\n",
       "    <tr>\n",
       "      <th>0</th>\n",
       "      <td>4,8tr PHONG FULL NOI THAT DEP GIA RE TAN BINH</td>\n",
       "      <td>Dia chi: 800 Duong Lac Long Quan, Phuong 9, Qu...</td>\n",
       "      <td>4.8 trieu/thang</td>\n",
       "      <td>30m</td>\n",
       "      <td>Phong rieng tu trong toa nha 2 mat tien thoang...</td>\n",
       "      <td>614102.0</td>\n",
       "      <td>Phong tro, nha tro</td>\n",
       "      <td>Tat ca</td>\n",
       "      <td>Thu 5, 11:54 05/01/2023</td>\n",
       "      <td>Thu 3, 11:54 10/01/2023</td>\n",
       "      <td>Huynh Dang Quynh Trang</td>\n",
       "      <td>0938441538</td>\n",
       "      <td>0938441538</td>\n",
       "      <td>https://phongtro123.com/4-8tr-phong-full-noi-t...</td>\n",
       "    </tr>\n",
       "    <tr>\n",
       "      <th>1</th>\n",
       "      <td>Cho thue phong tro moi xay, co may lanh, may g...</td>\n",
       "      <td>Dia chi: Duong Thong Nhat, Phuong 11, Quan Go ...</td>\n",
       "      <td>2.8 trieu/thang</td>\n",
       "      <td>20m</td>\n",
       "      <td>PHONG MOI XAY, THOANG MAT, SACH SE || Dia chi:...</td>\n",
       "      <td>612543.0</td>\n",
       "      <td>Phong tro, nha tro</td>\n",
       "      <td>Tat ca</td>\n",
       "      <td>Thu 5, 10:00 05/01/2023</td>\n",
       "      <td>Thu 5, 10:00 12/01/2023</td>\n",
       "      <td>Co Hanh</td>\n",
       "      <td>0919170897</td>\n",
       "      <td>0919170897</td>\n",
       "      <td>https://phongtro123.com/cho-thue-phong-tro-moi...</td>\n",
       "    </tr>\n",
       "    <tr>\n",
       "      <th>2</th>\n",
       "      <td>PHONG TRO MOI XAY RAT DEP SO 373/1/2A DUONG LY...</td>\n",
       "      <td>Dia chi: 373/1/2A Pho Ly Thuong Kiet, Phuong 9...</td>\n",
       "      <td>4 trieu/thang</td>\n",
       "      <td>20m</td>\n",
       "      <td>PHONG TRO MOI, DEP SO 373/1/2a LY THUONG KIET,...</td>\n",
       "      <td>212446.0</td>\n",
       "      <td>Phong tro, nha tro</td>\n",
       "      <td>Tat ca</td>\n",
       "      <td>Thu 4, 20:49 04/01/2023</td>\n",
       "      <td>Thu 5, 20:49 12/01/2023</td>\n",
       "      <td>hieuthanh2006 (*)</td>\n",
       "      <td>0918180057</td>\n",
       "      <td>0918180057</td>\n",
       "      <td>https://phongtro123.com/tinh-thanh/ho-chi-minh...</td>\n",
       "    </tr>\n",
       "    <tr>\n",
       "      <th>3</th>\n",
       "      <td>Cho thue phong tro moi Duong Luong The Vinh, P...</td>\n",
       "      <td>Dia chi: 48/13 Duong Luong The Vinh, Phuong Ta...</td>\n",
       "      <td>1.8 trieu/thang</td>\n",
       "      <td>20m</td>\n",
       "      <td>Gia Phong tu 1800k den xem dam bao ung y, cam ...</td>\n",
       "      <td>603145.0</td>\n",
       "      <td>Phong tro, nha tro</td>\n",
       "      <td>Tat ca</td>\n",
       "      <td>Chu Nhat, 13:10 01/01/2023</td>\n",
       "      <td>Chu Nhat, 13:10 08/01/2023</td>\n",
       "      <td>Nguyen Pham Duc Cuong</td>\n",
       "      <td>0938864405</td>\n",
       "      <td>0938864405</td>\n",
       "      <td>https://phongtro123.com/phong-tro-moi-xay-48-1...</td>\n",
       "    </tr>\n",
       "    <tr>\n",
       "      <th>4</th>\n",
       "      <td>Cho thue phong moi dien tich 32m2, gia 5tr/tha...</td>\n",
       "      <td>Dia chi: Duong so 61, Phuong Thanh My Loi, Qua...</td>\n",
       "      <td>5 trieu/thang</td>\n",
       "      <td>32m</td>\n",
       "      <td>Minh can cho thue phong moi dien tich 32m2, gi...</td>\n",
       "      <td>315940.0</td>\n",
       "      <td>Phong tro, nha tro</td>\n",
       "      <td>Tat ca</td>\n",
       "      <td>Thu 3, 15:31 20/12/2022</td>\n",
       "      <td>Thu 6, 11:04 03/02/2023</td>\n",
       "      <td>Khanh</td>\n",
       "      <td>0989997054</td>\n",
       "      <td>0989997054</td>\n",
       "      <td>https://phongtro123.com/cho-thue-phong-moi-die...</td>\n",
       "    </tr>\n",
       "  </tbody>\n",
       "</table>\n",
       "</div>"
      ],
      "text/plain": [
       "                                               Title  \\\n",
       "0      4,8tr PHONG FULL NOI THAT DEP GIA RE TAN BINH   \n",
       "1  Cho thue phong tro moi xay, co may lanh, may g...   \n",
       "2  PHONG TRO MOI XAY RAT DEP SO 373/1/2A DUONG LY...   \n",
       "3  Cho thue phong tro moi Duong Luong The Vinh, P...   \n",
       "4  Cho thue phong moi dien tich 32m2, gia 5tr/tha...   \n",
       "\n",
       "                                             Address            Price Acreage  \\\n",
       "0  Dia chi: 800 Duong Lac Long Quan, Phuong 9, Qu...  4.8 trieu/thang     30m   \n",
       "1  Dia chi: Duong Thong Nhat, Phuong 11, Quan Go ...  2.8 trieu/thang     20m   \n",
       "2  Dia chi: 373/1/2A Pho Ly Thuong Kiet, Phuong 9...    4 trieu/thang     20m   \n",
       "3  Dia chi: 48/13 Duong Luong The Vinh, Phuong Ta...  1.8 trieu/thang     20m   \n",
       "4  Dia chi: Duong so 61, Phuong Thanh My Loi, Qua...    5 trieu/thang     32m   \n",
       "\n",
       "                                             Content        Id  \\\n",
       "0  Phong rieng tu trong toa nha 2 mat tien thoang...  614102.0   \n",
       "1  PHONG MOI XAY, THOANG MAT, SACH SE || Dia chi:...  612543.0   \n",
       "2  PHONG TRO MOI, DEP SO 373/1/2a LY THUONG KIET,...  212446.0   \n",
       "3  Gia Phong tu 1800k den xem dam bao ung y, cam ...  603145.0   \n",
       "4  Minh can cho thue phong moi dien tich 32m2, gi...  315940.0   \n",
       "\n",
       "            Type_post  Tenant                Posting_time  \\\n",
       "0  Phong tro, nha tro  Tat ca     Thu 5, 11:54 05/01/2023   \n",
       "1  Phong tro, nha tro  Tat ca     Thu 5, 10:00 05/01/2023   \n",
       "2  Phong tro, nha tro  Tat ca     Thu 4, 20:49 04/01/2023   \n",
       "3  Phong tro, nha tro  Tat ca  Chu Nhat, 13:10 01/01/2023   \n",
       "4  Phong tro, nha tro  Tat ca     Thu 3, 15:31 20/12/2022   \n",
       "\n",
       "                     End_time                 Contact Phone_number  \\\n",
       "0     Thu 3, 11:54 10/01/2023  Huynh Dang Quynh Trang   0938441538   \n",
       "1     Thu 5, 10:00 12/01/2023                 Co Hanh   0919170897   \n",
       "2     Thu 5, 20:49 12/01/2023       hieuthanh2006 (*)   0918180057   \n",
       "3  Chu Nhat, 13:10 08/01/2023   Nguyen Pham Duc Cuong   0938864405   \n",
       "4     Thu 6, 11:04 03/02/2023                   Khanh   0989997054   \n",
       "\n",
       "         Zalo                                               Link  \n",
       "0  0938441538  https://phongtro123.com/4-8tr-phong-full-noi-t...  \n",
       "1  0919170897  https://phongtro123.com/cho-thue-phong-tro-moi...  \n",
       "2  0918180057  https://phongtro123.com/tinh-thanh/ho-chi-minh...  \n",
       "3  0938864405  https://phongtro123.com/phong-tro-moi-xay-48-1...  \n",
       "4  0989997054  https://phongtro123.com/cho-thue-phong-moi-die...  "
      ]
     },
     "execution_count": 2,
     "metadata": {},
     "output_type": "execute_result"
    }
   ],
   "source": [
    "room_df = pd.read_json(r'phongtro123/phongtro123/dataset/post_info.json')\n",
    "room_df.rename(columns={col: col.capitalize() for col in room_df.columns}, inplace=True)\n",
    "room_df.head()"
   ]
  },
  {
   "cell_type": "markdown",
   "metadata": {},
   "source": [
    "### Dữ liệu gồm có bao nhiêu dòng và bao nhiêu cột?"
   ]
  },
  {
   "cell_type": "markdown",
   "metadata": {},
   "source": [
    "Tính số dòng và số cột và lần lượt lưu vào 2 biến là `num_rows` và `num_cols`. "
   ]
  },
  {
   "cell_type": "code",
   "execution_count": 3,
   "metadata": {},
   "outputs": [
    {
     "name": "stdout",
     "output_type": "stream",
     "text": [
      "Num rows:  49119\n",
      "Num cols:  14\n"
     ]
    }
   ],
   "source": [
    "num_rows, num_cols = room_df.shape\n",
    "print(\"Num rows: \", num_rows)\n",
    "print(\"Num cols: \", num_cols)"
   ]
  },
  {
   "cell_type": "markdown",
   "metadata": {},
   "source": [
    "### Mỗi dòng có ý nghĩa gì? Có vấn đề các dòng có ý nghĩa khác nhau không?"
   ]
  },
  {
   "cell_type": "markdown",
   "metadata": {},
   "source": [
    "Theo như quan sát sơ bộ về dữ liệu thì một dòng cho biết thông tin về quảng cáo cho thuê phòng trọ của các nơi trên địa bàn Tp.HCM."
   ]
  },
  {
   "cell_type": "markdown",
   "metadata": {},
   "source": [
    "### Dữ liệu có các dòng bị lặp không? Nếu có, xử lý những dòng bị lặp"
   ]
  },
  {
   "cell_type": "markdown",
   "metadata": {},
   "source": [
    "Ta sẽ kiểm tra vụ này và lưu kết quả vào biến `have_duplicated_rows`. Biến này sẽ có giá trị True nếu dữ liệu có các dòng bị lặp và có giá trị False nếu ngược lại."
   ]
  },
  {
   "cell_type": "code",
   "execution_count": 4,
   "metadata": {},
   "outputs": [
    {
     "data": {
      "text/plain": [
       "False"
      ]
     },
     "execution_count": 4,
     "metadata": {},
     "output_type": "execute_result"
    }
   ],
   "source": [
    "have_duplicated_rows = room_df.duplicated().sum() > 0\n",
    "have_duplicated_rows"
   ]
  },
  {
   "cell_type": "markdown",
   "metadata": {},
   "source": [
    "Kết quả kiểm tra cho thấy dữ liệu không bị trùng lặp."
   ]
  },
  {
   "cell_type": "markdown",
   "metadata": {},
   "source": [
    "### Dữ liệu có bị lỗi khi thu thập không? Nếu có, xử lý những dòng lỗi này"
   ]
  },
  {
   "cell_type": "markdown",
   "metadata": {},
   "source": [
    "Những dòng bị lỗi khi thu thập là những dòng có thuộc tính đều là rỗng (trừ thuộc tính `Link`) , điều này xảy ra là do bài post đó đã bị xóa khi ta thu thập dữ liệu."
   ]
  },
  {
   "cell_type": "code",
   "execution_count": 5,
   "metadata": {},
   "outputs": [
    {
     "data": {
      "text/html": [
       "<div>\n",
       "<style scoped>\n",
       "    .dataframe tbody tr th:only-of-type {\n",
       "        vertical-align: middle;\n",
       "    }\n",
       "\n",
       "    .dataframe tbody tr th {\n",
       "        vertical-align: top;\n",
       "    }\n",
       "\n",
       "    .dataframe thead th {\n",
       "        text-align: right;\n",
       "    }\n",
       "</style>\n",
       "<table border=\"1\" class=\"dataframe\">\n",
       "  <thead>\n",
       "    <tr style=\"text-align: right;\">\n",
       "      <th></th>\n",
       "      <th>Title</th>\n",
       "      <th>Address</th>\n",
       "      <th>Price</th>\n",
       "      <th>Acreage</th>\n",
       "      <th>Content</th>\n",
       "      <th>Id</th>\n",
       "      <th>Type_post</th>\n",
       "      <th>Tenant</th>\n",
       "      <th>Posting_time</th>\n",
       "      <th>End_time</th>\n",
       "      <th>Contact</th>\n",
       "      <th>Phone_number</th>\n",
       "      <th>Zalo</th>\n",
       "      <th>Link</th>\n",
       "    </tr>\n",
       "  </thead>\n",
       "  <tbody>\n",
       "    <tr>\n",
       "      <th>2517</th>\n",
       "      <td></td>\n",
       "      <td></td>\n",
       "      <td></td>\n",
       "      <td></td>\n",
       "      <td></td>\n",
       "      <td>NaN</td>\n",
       "      <td>None</td>\n",
       "      <td>None</td>\n",
       "      <td>None</td>\n",
       "      <td>None</td>\n",
       "      <td>None</td>\n",
       "      <td>None</td>\n",
       "      <td>None</td>\n",
       "      <td>https://phongtro123.com/1-phong-tro-binh-dan-g...</td>\n",
       "    </tr>\n",
       "    <tr>\n",
       "      <th>3681</th>\n",
       "      <td>Pass phong o khu Khang Dien Mega Village gia 3...</td>\n",
       "      <td>Dia chi: Khang Dien Mega Village Duong Vo Chi ...</td>\n",
       "      <td>3.3 trieu/thang</td>\n",
       "      <td>\\n                        25m</td>\n",
       "      <td>Minh can pass 1 phong cho nu phong sang xin mi...</td>\n",
       "      <td>NaN</td>\n",
       "      <td>None</td>\n",
       "      <td>None</td>\n",
       "      <td>None</td>\n",
       "      <td>None</td>\n",
       "      <td>None</td>\n",
       "      <td>None</td>\n",
       "      <td>None</td>\n",
       "      <td>https://phongtro123.com/pass-phong-o-khu-khang...</td>\n",
       "    </tr>\n",
       "    <tr>\n",
       "      <th>4925</th>\n",
       "      <td>CHo thue CHDV 234 Quoc lo 13 - 25m2 - Duplex -...</td>\n",
       "      <td>Dia chi: 234 Quoc Lo 13, Phuong 26, Quan Binh ...</td>\n",
       "      <td>4.2 trieu/thang</td>\n",
       "      <td>\\n                        25m</td>\n",
       "      <td>Dia chi : 234 Quoc lo 13, phuong 26, quan Binh...</td>\n",
       "      <td>NaN</td>\n",
       "      <td>None</td>\n",
       "      <td>None</td>\n",
       "      <td>None</td>\n",
       "      <td>None</td>\n",
       "      <td>None</td>\n",
       "      <td>None</td>\n",
       "      <td>None</td>\n",
       "      <td>https://phongtro123.com/cho-thue-chdv-234-quoc...</td>\n",
       "    </tr>\n",
       "    <tr>\n",
       "      <th>9414</th>\n",
       "      <td></td>\n",
       "      <td></td>\n",
       "      <td></td>\n",
       "      <td></td>\n",
       "      <td></td>\n",
       "      <td>NaN</td>\n",
       "      <td>None</td>\n",
       "      <td>None</td>\n",
       "      <td>None</td>\n",
       "      <td>None</td>\n",
       "      <td>None</td>\n",
       "      <td>None</td>\n",
       "      <td>None</td>\n",
       "      <td>https://phongtro123.com/phong-tro-gac-lung-toa...</td>\n",
       "    </tr>\n",
       "    <tr>\n",
       "      <th>10248</th>\n",
       "      <td>Cho thue phong tro cao cap Tan Binh - cuc UU D...</td>\n",
       "      <td>Dia chi: Duong Dong Den, Phuong 10, Quan Tan B...</td>\n",
       "      <td>4.5 trieu/thang</td>\n",
       "      <td>\\n                        30m</td>\n",
       "      <td>CAN HO NGAY DUONG AU CO  || ---------SIEU DU A...</td>\n",
       "      <td>NaN</td>\n",
       "      <td>None</td>\n",
       "      <td>None</td>\n",
       "      <td>None</td>\n",
       "      <td>None</td>\n",
       "      <td>None</td>\n",
       "      <td>None</td>\n",
       "      <td>None</td>\n",
       "      <td>https://phongtro123.com/tinh-thanh/ho-chi-minh...</td>\n",
       "    </tr>\n",
       "    <tr>\n",
       "      <th>10395</th>\n",
       "      <td>Phong tro co gac, trong toa nha rieng biet, co...</td>\n",
       "      <td>Dia chi: Duong Nguyen Sy Sach, Phuong 15, Quan...</td>\n",
       "      <td>3.6 trieu/thang</td>\n",
       "      <td>\\n                        18m</td>\n",
       "      <td>Day phong moi duong Nguyen Sy Sach, gan san ba...</td>\n",
       "      <td>NaN</td>\n",
       "      <td>None</td>\n",
       "      <td>None</td>\n",
       "      <td>None</td>\n",
       "      <td>None</td>\n",
       "      <td>None</td>\n",
       "      <td>None</td>\n",
       "      <td>None</td>\n",
       "      <td>https://phongtro123.com/phong-tro-co-gac-trong...</td>\n",
       "    </tr>\n",
       "    <tr>\n",
       "      <th>10734</th>\n",
       "      <td>Phong rong, anh sang, mat me, full noi that co...</td>\n",
       "      <td>Dia chi: 376/11 Duong Chu Van An, Phuong 12, Q...</td>\n",
       "      <td>3.5 trieu/thang</td>\n",
       "      <td>\\n                        20m</td>\n",
       "      <td>Phong tro Quan Binh Thanh. || \\n376/11 Duong C...</td>\n",
       "      <td>NaN</td>\n",
       "      <td>None</td>\n",
       "      <td>None</td>\n",
       "      <td>None</td>\n",
       "      <td>None</td>\n",
       "      <td>None</td>\n",
       "      <td>None</td>\n",
       "      <td>None</td>\n",
       "      <td>https://phongtro123.com/phong-rong-anh-sang-ma...</td>\n",
       "    </tr>\n",
       "    <tr>\n",
       "      <th>12273</th>\n",
       "      <td>PHONG MOI 25M2 CO GAC LUNG, CO SAN RIENG, TOIL...</td>\n",
       "      <td>Dia chi: Duong Tan Chanh Hiep 10, Phuong Tan C...</td>\n",
       "      <td>1.8 trieu/thang</td>\n",
       "      <td>\\n                        25m</td>\n",
       "      <td>PHONG MOI BAO GOM SAN (HIEN PHOI QUAN AO) - 25...</td>\n",
       "      <td>NaN</td>\n",
       "      <td>None</td>\n",
       "      <td>None</td>\n",
       "      <td>None</td>\n",
       "      <td>None</td>\n",
       "      <td>None</td>\n",
       "      <td>None</td>\n",
       "      <td>None</td>\n",
       "      <td>https://phongtro123.com/tinh-thanh/ho-chi-minh...</td>\n",
       "    </tr>\n",
       "    <tr>\n",
       "      <th>12310</th>\n",
       "      <td></td>\n",
       "      <td></td>\n",
       "      <td></td>\n",
       "      <td></td>\n",
       "      <td></td>\n",
       "      <td>NaN</td>\n",
       "      <td>None</td>\n",
       "      <td>None</td>\n",
       "      <td>None</td>\n",
       "      <td>None</td>\n",
       "      <td>None</td>\n",
       "      <td>None</td>\n",
       "      <td>None</td>\n",
       "      <td>https://phongtro123.com/tinh-thanh/ho-chi-minh...</td>\n",
       "    </tr>\n",
       "    <tr>\n",
       "      <th>14056</th>\n",
       "      <td></td>\n",
       "      <td></td>\n",
       "      <td></td>\n",
       "      <td></td>\n",
       "      <td></td>\n",
       "      <td>NaN</td>\n",
       "      <td>None</td>\n",
       "      <td>None</td>\n",
       "      <td>None</td>\n",
       "      <td>None</td>\n",
       "      <td>None</td>\n",
       "      <td>None</td>\n",
       "      <td>None</td>\n",
       "      <td>https://phongtro123.com/tinh-thanh/ho-chi-minh...</td>\n",
       "    </tr>\n",
       "    <tr>\n",
       "      <th>14633</th>\n",
       "      <td>Phong tro Quan 4, cach trung tam TP. 1 km. Nha...</td>\n",
       "      <td>Dia chi: 26 duong 11, Phuong 4, Quan 4, Ho Chi...</td>\n",
       "      <td>5.5 trieu/thang</td>\n",
       "      <td>\\n                        40m</td>\n",
       "      <td>PHONG SANG TRONG NHU KHACH SAN ! || \\n Phong d...</td>\n",
       "      <td>NaN</td>\n",
       "      <td>None</td>\n",
       "      <td>None</td>\n",
       "      <td>None</td>\n",
       "      <td>None</td>\n",
       "      <td>None</td>\n",
       "      <td>None</td>\n",
       "      <td>None</td>\n",
       "      <td>https://phongtro123.com/tinh-thanh/ho-chi-minh...</td>\n",
       "    </tr>\n",
       "    <tr>\n",
       "      <th>14846</th>\n",
       "      <td></td>\n",
       "      <td></td>\n",
       "      <td></td>\n",
       "      <td></td>\n",
       "      <td></td>\n",
       "      <td>NaN</td>\n",
       "      <td>None</td>\n",
       "      <td>None</td>\n",
       "      <td>None</td>\n",
       "      <td>None</td>\n",
       "      <td>None</td>\n",
       "      <td>None</td>\n",
       "      <td>None</td>\n",
       "      <td>https://phongtro123.com/tinh-thanh/ho-chi-minh...</td>\n",
       "    </tr>\n",
       "    <tr>\n",
       "      <th>15274</th>\n",
       "      <td></td>\n",
       "      <td></td>\n",
       "      <td></td>\n",
       "      <td></td>\n",
       "      <td></td>\n",
       "      <td>NaN</td>\n",
       "      <td>None</td>\n",
       "      <td>None</td>\n",
       "      <td>None</td>\n",
       "      <td>None</td>\n",
       "      <td>None</td>\n",
       "      <td>None</td>\n",
       "      <td>None</td>\n",
       "      <td>https://phongtro123.com/tinh-thanh/ho-chi-minh...</td>\n",
       "    </tr>\n",
       "    <tr>\n",
       "      <th>16498</th>\n",
       "      <td>PHONG TRO GO VAP, MOI 100%, GIA TOT NHAT KHU V...</td>\n",
       "      <td>Dia chi: 120/61, DUONG SO 59, Phuong 14, Quan ...</td>\n",
       "      <td>2 trieu/thang</td>\n",
       "      <td>\\n                        17m</td>\n",
       "      <td>PHONG CHO THUE || \\nGia chi tu 1.800.000 - 2.2...</td>\n",
       "      <td>NaN</td>\n",
       "      <td>None</td>\n",
       "      <td>None</td>\n",
       "      <td>None</td>\n",
       "      <td>None</td>\n",
       "      <td>None</td>\n",
       "      <td>None</td>\n",
       "      <td>None</td>\n",
       "      <td>https://phongtro123.com/tinh-thanh/ho-chi-minh...</td>\n",
       "    </tr>\n",
       "    <tr>\n",
       "      <th>20066</th>\n",
       "      <td>PHONG MOI XAY CHO THUE NGAY LAC LONG QUAN, LY ...</td>\n",
       "      <td>Dia chi: 49/10 Duong Hong Lac, Phuong 10, Quan...</td>\n",
       "      <td>3.8 trieu/thang</td>\n",
       "      <td>\\n                        20m</td>\n",
       "      <td>Phong tien nghi co bep rieng ngay cho Vai Tan ...</td>\n",
       "      <td>NaN</td>\n",
       "      <td>None</td>\n",
       "      <td>None</td>\n",
       "      <td>None</td>\n",
       "      <td>None</td>\n",
       "      <td>None</td>\n",
       "      <td>None</td>\n",
       "      <td>None</td>\n",
       "      <td>https://phongtro123.com/tinh-thanh/ho-chi-minh...</td>\n",
       "    </tr>\n",
       "    <tr>\n",
       "      <th>22210</th>\n",
       "      <td>Nha chung cu lau 15, 636A XVNT, F.25, Binh Tha...</td>\n",
       "      <td>Dia chi: Duong Xo Viet Nghe Tinh, Phuong 25, Q...</td>\n",
       "      <td>5 trieu/thang</td>\n",
       "      <td>\\n                        35m</td>\n",
       "      <td>Nha Chung Cu lau 15 || \\n636A Xo Viet Nghe Tin...</td>\n",
       "      <td>NaN</td>\n",
       "      <td>None</td>\n",
       "      <td>None</td>\n",
       "      <td>None</td>\n",
       "      <td>None</td>\n",
       "      <td>None</td>\n",
       "      <td>None</td>\n",
       "      <td>None</td>\n",
       "      <td>https://phongtro123.com/tinh-thanh/ho-chi-minh...</td>\n",
       "    </tr>\n",
       "    <tr>\n",
       "      <th>23220</th>\n",
       "      <td>Cho thue phong cao cap tai khu Citi Home Quan ...</td>\n",
       "      <td>Dia chi: Duong Nguyen Thi Dinh, Phuong Cat Lai...</td>\n",
       "      <td>4 trieu/thang</td>\n",
       "      <td>\\n                        50m</td>\n",
       "      <td>Cho Thue phong cao cap khu dan cu moi an ninh,...</td>\n",
       "      <td>NaN</td>\n",
       "      <td>None</td>\n",
       "      <td>None</td>\n",
       "      <td>None</td>\n",
       "      <td>None</td>\n",
       "      <td>None</td>\n",
       "      <td>None</td>\n",
       "      <td>None</td>\n",
       "      <td>https://phongtro123.com/tinh-thanh/ho-chi-minh...</td>\n",
       "    </tr>\n",
       "    <tr>\n",
       "      <th>33821</th>\n",
       "      <td>Minh can share phong chung cu 2tr5/2 nguoi - b...</td>\n",
       "      <td>Dia chi: Duong Quoc Lo 50, Phuong 6, Quan 8, H...</td>\n",
       "      <td>2.5 trieu/thang</td>\n",
       "      <td>\\n                        83m</td>\n",
       "      <td>Minh can share lai 1 phong chung cu rong 83m2....</td>\n",
       "      <td>NaN</td>\n",
       "      <td>None</td>\n",
       "      <td>None</td>\n",
       "      <td>None</td>\n",
       "      <td>None</td>\n",
       "      <td>None</td>\n",
       "      <td>None</td>\n",
       "      <td>None</td>\n",
       "      <td>https://phongtro123.com/minh-can-share-phong-c...</td>\n",
       "    </tr>\n",
       "    <tr>\n",
       "      <th>36461</th>\n",
       "      <td>CHO THUE PHONG CAN HO ERA TOWN 25M2, BAO DIEN ...</td>\n",
       "      <td>Dia chi: 167 Pham Huu Lau, Phuong Phu My, Quan...</td>\n",
       "      <td>3 trieu/thang</td>\n",
       "      <td>\\n                        25m</td>\n",
       "      <td>- Cho thue phong trong can ho cao cap Era Town...</td>\n",
       "      <td>NaN</td>\n",
       "      <td>None</td>\n",
       "      <td>None</td>\n",
       "      <td>None</td>\n",
       "      <td>None</td>\n",
       "      <td>None</td>\n",
       "      <td>None</td>\n",
       "      <td>None</td>\n",
       "      <td>https://phongtro123.com/tinh-thanh/ho-chi-minh...</td>\n",
       "    </tr>\n",
       "    <tr>\n",
       "      <th>37310</th>\n",
       "      <td>Phong trong C/C Era Town Q.7 bao dien, nuoc, p...</td>\n",
       "      <td>Dia chi: 167 Pham Huu Lau, Phuong Phu My, Quan...</td>\n",
       "      <td>3 trieu/thang</td>\n",
       "      <td>\\n                        22m</td>\n",
       "      <td>Nha con 2 phong trong khong ai o nen cho thue ...</td>\n",
       "      <td>NaN</td>\n",
       "      <td>None</td>\n",
       "      <td>None</td>\n",
       "      <td>None</td>\n",
       "      <td>None</td>\n",
       "      <td>None</td>\n",
       "      <td>None</td>\n",
       "      <td>None</td>\n",
       "      <td>https://phongtro123.com/tinh-thanh/ho-chi-minh...</td>\n",
       "    </tr>\n",
       "    <tr>\n",
       "      <th>37623</th>\n",
       "      <td>Phong trong C/C Era Town bao dien, nuoc, phi q...</td>\n",
       "      <td>Dia chi: Pham Huu Lau, Phuong Phu My, Quan 7, ...</td>\n",
       "      <td>3 trieu/thang</td>\n",
       "      <td>\\n                        22m</td>\n",
       "      <td>Nha con 2 phong trong khong ai o nen cho thue ...</td>\n",
       "      <td>NaN</td>\n",
       "      <td>None</td>\n",
       "      <td>None</td>\n",
       "      <td>None</td>\n",
       "      <td>None</td>\n",
       "      <td>None</td>\n",
       "      <td>None</td>\n",
       "      <td>None</td>\n",
       "      <td>https://phongtro123.com/tinh-thanh/ho-chi-minh...</td>\n",
       "    </tr>\n",
       "    <tr>\n",
       "      <th>38653</th>\n",
       "      <td>Cho thue phong trong can ho Era Town Quan 7. G...</td>\n",
       "      <td>Dia chi: Duong 15B, Phuong Phu My, Quan 7, Ho ...</td>\n",
       "      <td>1.7 trieu/thang</td>\n",
       "      <td>\\n                        25m</td>\n",
       "      <td>Minh can cho thue phong trong can ho Era Town ...</td>\n",
       "      <td>NaN</td>\n",
       "      <td>None</td>\n",
       "      <td>None</td>\n",
       "      <td>None</td>\n",
       "      <td>None</td>\n",
       "      <td>None</td>\n",
       "      <td>None</td>\n",
       "      <td>None</td>\n",
       "      <td>https://phongtro123.com/tinh-thanh/ho-chi-minh...</td>\n",
       "    </tr>\n",
       "    <tr>\n",
       "      <th>39435</th>\n",
       "      <td></td>\n",
       "      <td></td>\n",
       "      <td></td>\n",
       "      <td></td>\n",
       "      <td></td>\n",
       "      <td>NaN</td>\n",
       "      <td>None</td>\n",
       "      <td>None</td>\n",
       "      <td>None</td>\n",
       "      <td>None</td>\n",
       "      <td>None</td>\n",
       "      <td>None</td>\n",
       "      <td>None</td>\n",
       "      <td>https://phongtro123.com/tinh-thanh/ho-chi-minh...</td>\n",
       "    </tr>\n",
       "    <tr>\n",
       "      <th>48118</th>\n",
       "      <td>Chinh chu cho thue can ho dich vu, mien phi qu...</td>\n",
       "      <td>Dia chi: Le Van Luong, Quan 7</td>\n",
       "      <td>3.5 trieu/thang</td>\n",
       "      <td>\\n                        30m</td>\n",
       "      <td>Toi chinh chu cho thue phong trong can ho cao ...</td>\n",
       "      <td>NaN</td>\n",
       "      <td>None</td>\n",
       "      <td>None</td>\n",
       "      <td>None</td>\n",
       "      <td>None</td>\n",
       "      <td>None</td>\n",
       "      <td>None</td>\n",
       "      <td>None</td>\n",
       "      <td>https://phongtro123.com/tinh-thanh/ho-chi-minh...</td>\n",
       "    </tr>\n",
       "    <tr>\n",
       "      <th>48716</th>\n",
       "      <td></td>\n",
       "      <td></td>\n",
       "      <td></td>\n",
       "      <td></td>\n",
       "      <td></td>\n",
       "      <td>NaN</td>\n",
       "      <td>None</td>\n",
       "      <td>None</td>\n",
       "      <td>None</td>\n",
       "      <td>None</td>\n",
       "      <td>None</td>\n",
       "      <td>None</td>\n",
       "      <td>None</td>\n",
       "      <td>https://phongtro123.com/tinh-thanh/ho-123.com/...</td>\n",
       "    </tr>\n",
       "  </tbody>\n",
       "</table>\n",
       "</div>"
      ],
      "text/plain": [
       "                                                   Title  \\\n",
       "2517                                                       \n",
       "3681   Pass phong o khu Khang Dien Mega Village gia 3...   \n",
       "4925   CHo thue CHDV 234 Quoc lo 13 - 25m2 - Duplex -...   \n",
       "9414                                                       \n",
       "10248  Cho thue phong tro cao cap Tan Binh - cuc UU D...   \n",
       "10395  Phong tro co gac, trong toa nha rieng biet, co...   \n",
       "10734  Phong rong, anh sang, mat me, full noi that co...   \n",
       "12273  PHONG MOI 25M2 CO GAC LUNG, CO SAN RIENG, TOIL...   \n",
       "12310                                                      \n",
       "14056                                                      \n",
       "14633  Phong tro Quan 4, cach trung tam TP. 1 km. Nha...   \n",
       "14846                                                      \n",
       "15274                                                      \n",
       "16498  PHONG TRO GO VAP, MOI 100%, GIA TOT NHAT KHU V...   \n",
       "20066  PHONG MOI XAY CHO THUE NGAY LAC LONG QUAN, LY ...   \n",
       "22210  Nha chung cu lau 15, 636A XVNT, F.25, Binh Tha...   \n",
       "23220  Cho thue phong cao cap tai khu Citi Home Quan ...   \n",
       "33821  Minh can share phong chung cu 2tr5/2 nguoi - b...   \n",
       "36461  CHO THUE PHONG CAN HO ERA TOWN 25M2, BAO DIEN ...   \n",
       "37310  Phong trong C/C Era Town Q.7 bao dien, nuoc, p...   \n",
       "37623  Phong trong C/C Era Town bao dien, nuoc, phi q...   \n",
       "38653  Cho thue phong trong can ho Era Town Quan 7. G...   \n",
       "39435                                                      \n",
       "48118  Chinh chu cho thue can ho dich vu, mien phi qu...   \n",
       "48716                                                      \n",
       "\n",
       "                                                 Address            Price  \\\n",
       "2517                                                                        \n",
       "3681   Dia chi: Khang Dien Mega Village Duong Vo Chi ...  3.3 trieu/thang   \n",
       "4925   Dia chi: 234 Quoc Lo 13, Phuong 26, Quan Binh ...  4.2 trieu/thang   \n",
       "9414                                                                        \n",
       "10248  Dia chi: Duong Dong Den, Phuong 10, Quan Tan B...  4.5 trieu/thang   \n",
       "10395  Dia chi: Duong Nguyen Sy Sach, Phuong 15, Quan...  3.6 trieu/thang   \n",
       "10734  Dia chi: 376/11 Duong Chu Van An, Phuong 12, Q...  3.5 trieu/thang   \n",
       "12273  Dia chi: Duong Tan Chanh Hiep 10, Phuong Tan C...  1.8 trieu/thang   \n",
       "12310                                                                       \n",
       "14056                                                                       \n",
       "14633  Dia chi: 26 duong 11, Phuong 4, Quan 4, Ho Chi...  5.5 trieu/thang   \n",
       "14846                                                                       \n",
       "15274                                                                       \n",
       "16498  Dia chi: 120/61, DUONG SO 59, Phuong 14, Quan ...    2 trieu/thang   \n",
       "20066  Dia chi: 49/10 Duong Hong Lac, Phuong 10, Quan...  3.8 trieu/thang   \n",
       "22210  Dia chi: Duong Xo Viet Nghe Tinh, Phuong 25, Q...    5 trieu/thang   \n",
       "23220  Dia chi: Duong Nguyen Thi Dinh, Phuong Cat Lai...    4 trieu/thang   \n",
       "33821  Dia chi: Duong Quoc Lo 50, Phuong 6, Quan 8, H...  2.5 trieu/thang   \n",
       "36461  Dia chi: 167 Pham Huu Lau, Phuong Phu My, Quan...    3 trieu/thang   \n",
       "37310  Dia chi: 167 Pham Huu Lau, Phuong Phu My, Quan...    3 trieu/thang   \n",
       "37623  Dia chi: Pham Huu Lau, Phuong Phu My, Quan 7, ...    3 trieu/thang   \n",
       "38653  Dia chi: Duong 15B, Phuong Phu My, Quan 7, Ho ...  1.7 trieu/thang   \n",
       "39435                                                                       \n",
       "48118                      Dia chi: Le Van Luong, Quan 7  3.5 trieu/thang   \n",
       "48716                                                                       \n",
       "\n",
       "                             Acreage  \\\n",
       "2517                                   \n",
       "3681   \\n                        25m   \n",
       "4925   \\n                        25m   \n",
       "9414                                   \n",
       "10248  \\n                        30m   \n",
       "10395  \\n                        18m   \n",
       "10734  \\n                        20m   \n",
       "12273  \\n                        25m   \n",
       "12310                                  \n",
       "14056                                  \n",
       "14633  \\n                        40m   \n",
       "14846                                  \n",
       "15274                                  \n",
       "16498  \\n                        17m   \n",
       "20066  \\n                        20m   \n",
       "22210  \\n                        35m   \n",
       "23220  \\n                        50m   \n",
       "33821  \\n                        83m   \n",
       "36461  \\n                        25m   \n",
       "37310  \\n                        22m   \n",
       "37623  \\n                        22m   \n",
       "38653  \\n                        25m   \n",
       "39435                                  \n",
       "48118  \\n                        30m   \n",
       "48716                                  \n",
       "\n",
       "                                                 Content  Id Type_post Tenant  \\\n",
       "2517                                                     NaN      None   None   \n",
       "3681   Minh can pass 1 phong cho nu phong sang xin mi... NaN      None   None   \n",
       "4925   Dia chi : 234 Quoc lo 13, phuong 26, quan Binh... NaN      None   None   \n",
       "9414                                                     NaN      None   None   \n",
       "10248  CAN HO NGAY DUONG AU CO  || ---------SIEU DU A... NaN      None   None   \n",
       "10395  Day phong moi duong Nguyen Sy Sach, gan san ba... NaN      None   None   \n",
       "10734  Phong tro Quan Binh Thanh. || \\n376/11 Duong C... NaN      None   None   \n",
       "12273  PHONG MOI BAO GOM SAN (HIEN PHOI QUAN AO) - 25... NaN      None   None   \n",
       "12310                                                    NaN      None   None   \n",
       "14056                                                    NaN      None   None   \n",
       "14633  PHONG SANG TRONG NHU KHACH SAN ! || \\n Phong d... NaN      None   None   \n",
       "14846                                                    NaN      None   None   \n",
       "15274                                                    NaN      None   None   \n",
       "16498  PHONG CHO THUE || \\nGia chi tu 1.800.000 - 2.2... NaN      None   None   \n",
       "20066  Phong tien nghi co bep rieng ngay cho Vai Tan ... NaN      None   None   \n",
       "22210  Nha Chung Cu lau 15 || \\n636A Xo Viet Nghe Tin... NaN      None   None   \n",
       "23220  Cho Thue phong cao cap khu dan cu moi an ninh,... NaN      None   None   \n",
       "33821  Minh can share lai 1 phong chung cu rong 83m2.... NaN      None   None   \n",
       "36461  - Cho thue phong trong can ho cao cap Era Town... NaN      None   None   \n",
       "37310  Nha con 2 phong trong khong ai o nen cho thue ... NaN      None   None   \n",
       "37623  Nha con 2 phong trong khong ai o nen cho thue ... NaN      None   None   \n",
       "38653  Minh can cho thue phong trong can ho Era Town ... NaN      None   None   \n",
       "39435                                                    NaN      None   None   \n",
       "48118  Toi chinh chu cho thue phong trong can ho cao ... NaN      None   None   \n",
       "48716                                                    NaN      None   None   \n",
       "\n",
       "      Posting_time End_time Contact Phone_number  Zalo  \\\n",
       "2517          None     None    None         None  None   \n",
       "3681          None     None    None         None  None   \n",
       "4925          None     None    None         None  None   \n",
       "9414          None     None    None         None  None   \n",
       "10248         None     None    None         None  None   \n",
       "10395         None     None    None         None  None   \n",
       "10734         None     None    None         None  None   \n",
       "12273         None     None    None         None  None   \n",
       "12310         None     None    None         None  None   \n",
       "14056         None     None    None         None  None   \n",
       "14633         None     None    None         None  None   \n",
       "14846         None     None    None         None  None   \n",
       "15274         None     None    None         None  None   \n",
       "16498         None     None    None         None  None   \n",
       "20066         None     None    None         None  None   \n",
       "22210         None     None    None         None  None   \n",
       "23220         None     None    None         None  None   \n",
       "33821         None     None    None         None  None   \n",
       "36461         None     None    None         None  None   \n",
       "37310         None     None    None         None  None   \n",
       "37623         None     None    None         None  None   \n",
       "38653         None     None    None         None  None   \n",
       "39435         None     None    None         None  None   \n",
       "48118         None     None    None         None  None   \n",
       "48716         None     None    None         None  None   \n",
       "\n",
       "                                                    Link  \n",
       "2517   https://phongtro123.com/1-phong-tro-binh-dan-g...  \n",
       "3681   https://phongtro123.com/pass-phong-o-khu-khang...  \n",
       "4925   https://phongtro123.com/cho-thue-chdv-234-quoc...  \n",
       "9414   https://phongtro123.com/phong-tro-gac-lung-toa...  \n",
       "10248  https://phongtro123.com/tinh-thanh/ho-chi-minh...  \n",
       "10395  https://phongtro123.com/phong-tro-co-gac-trong...  \n",
       "10734  https://phongtro123.com/phong-rong-anh-sang-ma...  \n",
       "12273  https://phongtro123.com/tinh-thanh/ho-chi-minh...  \n",
       "12310  https://phongtro123.com/tinh-thanh/ho-chi-minh...  \n",
       "14056  https://phongtro123.com/tinh-thanh/ho-chi-minh...  \n",
       "14633  https://phongtro123.com/tinh-thanh/ho-chi-minh...  \n",
       "14846  https://phongtro123.com/tinh-thanh/ho-chi-minh...  \n",
       "15274  https://phongtro123.com/tinh-thanh/ho-chi-minh...  \n",
       "16498  https://phongtro123.com/tinh-thanh/ho-chi-minh...  \n",
       "20066  https://phongtro123.com/tinh-thanh/ho-chi-minh...  \n",
       "22210  https://phongtro123.com/tinh-thanh/ho-chi-minh...  \n",
       "23220  https://phongtro123.com/tinh-thanh/ho-chi-minh...  \n",
       "33821  https://phongtro123.com/minh-can-share-phong-c...  \n",
       "36461  https://phongtro123.com/tinh-thanh/ho-chi-minh...  \n",
       "37310  https://phongtro123.com/tinh-thanh/ho-chi-minh...  \n",
       "37623  https://phongtro123.com/tinh-thanh/ho-chi-minh...  \n",
       "38653  https://phongtro123.com/tinh-thanh/ho-chi-minh...  \n",
       "39435  https://phongtro123.com/tinh-thanh/ho-chi-minh...  \n",
       "48118  https://phongtro123.com/tinh-thanh/ho-chi-minh...  \n",
       "48716  https://phongtro123.com/tinh-thanh/ho-123.com/...  "
      ]
     },
     "metadata": {},
     "output_type": "display_data"
    }
   ],
   "source": [
    "mask=room_df['Posting_time'].isnull()\n",
    "display(room_df[mask])"
   ]
  },
  {
   "cell_type": "markdown",
   "metadata": {},
   "source": [
    "Loại bỏ những dòng này"
   ]
  },
  {
   "cell_type": "code",
   "execution_count": 6,
   "metadata": {},
   "outputs": [],
   "source": [
    "room_df = room_df.drop(room_df[mask].index, axis=0)"
   ]
  },
  {
   "cell_type": "markdown",
   "metadata": {},
   "source": [
    "Kích thước của dữ liệu sau khi loại bỏ các dòng bị trùng lặp và các dòng lỗi"
   ]
  },
  {
   "cell_type": "code",
   "execution_count": 7,
   "metadata": {},
   "outputs": [
    {
     "name": "stdout",
     "output_type": "stream",
     "text": [
      "Num rows:  49094\n",
      "Num cols:  14\n"
     ]
    }
   ],
   "source": [
    "num_rows, num_cols = room_df.shape\n",
    "print(\"Num rows: \", num_rows)\n",
    "print(\"Num cols: \", num_cols)"
   ]
  },
  {
   "cell_type": "markdown",
   "metadata": {},
   "source": [
    "### Mỗi cột có ý nghĩa gì?"
   ]
  },
  {
   "cell_type": "markdown",
   "metadata": {},
   "source": [
    "Dưới đây là phần mô tả về thông tin các cột trong file \"post_info.json\":\n",
    "- **Id**: Mã tin quảng cáo cho thuê trọ.\n",
    "- **Title**: Tiêu đề tin quảng cáo cho thuê trọ .\n",
    "- **Address**: Địa chỉ cho thuê trọ.\n",
    "- **Price**: Mức giá cho thuê trọ.\n",
    "- **Acreage**: Diện tích phòng trọ.\n",
    "- **Content**: Thông tin mô tả phòng trọ.\n",
    "- **Type_post**: Loại tin rao quảng cáo.\n",
    "- **Tenant**: Đối tượng có thể thuê trọ.\n",
    "- **Posting_time**: Thời gian đăng thông báo cho thuê trọ.\n",
    "- **End_time**: Thời gian kết thúc cho thuê trọ.\n",
    "- **Contact**: Tên người có thể liên hệ nếu khách muốn thuê trọ.\n",
    "- **Phone_number**: Số điện thoại người liên hệ.\n",
    "- **Zalo**: Số Zalo người liên hệ.\n",
    "- **Link**: Link của bài post."
   ]
  },
  {
   "cell_type": "markdown",
   "metadata": {},
   "source": [
    "### Mỗi cột hiện đang có kiểu dữ liệu gì? Có cột nào có kiểu dữ liệu chưa phù hợp để có thể xử lý tiếp không?"
   ]
  },
  {
   "cell_type": "markdown",
   "metadata": {},
   "source": [
    "Ta lấy dtype (kiểu dữ liệu của mỗi phần tử) của mỗi cột trong dữ liệu và lưu kết quả vào series col_dtypes; series này có index là tên cột."
   ]
  },
  {
   "cell_type": "code",
   "execution_count": 8,
   "metadata": {},
   "outputs": [
    {
     "data": {
      "text/plain": [
       "Title            object\n",
       "Address          object\n",
       "Price            object\n",
       "Acreage          object\n",
       "Content          object\n",
       "Id              float64\n",
       "Type_post        object\n",
       "Tenant           object\n",
       "Posting_time     object\n",
       "End_time         object\n",
       "Contact          object\n",
       "Phone_number     object\n",
       "Zalo             object\n",
       "Link             object\n",
       "dtype: object"
      ]
     },
     "execution_count": 8,
     "metadata": {},
     "output_type": "execute_result"
    }
   ],
   "source": [
    "col_dtypes = room_df.dtypes\n",
    "col_dtypes"
   ]
  },
  {
   "cell_type": "markdown",
   "metadata": {},
   "source": [
    "Ta tính tỉ lệ phần trăm các giá trị bị thiếu trong các cột"
   ]
  },
  {
   "cell_type": "code",
   "execution_count": 9,
   "metadata": {},
   "outputs": [
    {
     "data": {
      "text/plain": [
       "{'Title': 0.0,\n",
       " 'Address': 0.0,\n",
       " 'Price': 0.0,\n",
       " 'Acreage': 0.0,\n",
       " 'Content': 0.0,\n",
       " 'Id': 0.0,\n",
       " 'Type_post': 0.0,\n",
       " 'Tenant': 0.0,\n",
       " 'Posting_time': 0.0,\n",
       " 'End_time': 0.0,\n",
       " 'Contact': 0.0,\n",
       " 'Phone_number': 0.0020369087872245083,\n",
       " 'Zalo': 0.0020369087872245083,\n",
       " 'Link': 0.0}"
      ]
     },
     "execution_count": 9,
     "metadata": {},
     "output_type": "execute_result"
    }
   ],
   "source": [
    "per_null = dict(room_df.isnull().sum()*100 / num_rows)\n",
    "per_null"
   ]
  },
  {
   "cell_type": "markdown",
   "metadata": {},
   "source": [
    "Ta thấy ở thuộc tính Phone_number và Zalo còn giá trị bị thiếu, in nó ra để kiểm tra"
   ]
  },
  {
   "cell_type": "code",
   "execution_count": 10,
   "metadata": {},
   "outputs": [
    {
     "data": {
      "text/html": [
       "<div>\n",
       "<style scoped>\n",
       "    .dataframe tbody tr th:only-of-type {\n",
       "        vertical-align: middle;\n",
       "    }\n",
       "\n",
       "    .dataframe tbody tr th {\n",
       "        vertical-align: top;\n",
       "    }\n",
       "\n",
       "    .dataframe thead th {\n",
       "        text-align: right;\n",
       "    }\n",
       "</style>\n",
       "<table border=\"1\" class=\"dataframe\">\n",
       "  <thead>\n",
       "    <tr style=\"text-align: right;\">\n",
       "      <th></th>\n",
       "      <th>Title</th>\n",
       "      <th>Address</th>\n",
       "      <th>Price</th>\n",
       "      <th>Acreage</th>\n",
       "      <th>Content</th>\n",
       "      <th>Id</th>\n",
       "      <th>Type_post</th>\n",
       "      <th>Tenant</th>\n",
       "      <th>Posting_time</th>\n",
       "      <th>End_time</th>\n",
       "      <th>Contact</th>\n",
       "      <th>Phone_number</th>\n",
       "      <th>Zalo</th>\n",
       "      <th>Link</th>\n",
       "    </tr>\n",
       "  </thead>\n",
       "  <tbody>\n",
       "    <tr>\n",
       "      <th>15236</th>\n",
       "      <td>PHONG CHO THUE FULL NOI THAT- CAO LO- QUAN 8</td>\n",
       "      <td>Dia chi: 190 Duong Cao Lo, Phuong 4, Quan 8, H...</td>\n",
       "      <td>4.3 trieu/thang</td>\n",
       "      <td>35m</td>\n",
       "      <td>* Chi con 1 Phong duy nhat, rat rong rai, co b...</td>\n",
       "      <td>284885.0</td>\n",
       "      <td>Phong tro, nha tro</td>\n",
       "      <td>Tat ca</td>\n",
       "      <td>Thu 7, 15:39 17/08/2019</td>\n",
       "      <td>Thu 6, 12:50 23/08/2019</td>\n",
       "      <td>achin151819@gmail.com</td>\n",
       "      <td>None</td>\n",
       "      <td>None</td>\n",
       "      <td>https://phongtro123.com/tinh-thanh/ho-chi-minh...</td>\n",
       "    </tr>\n",
       "  </tbody>\n",
       "</table>\n",
       "</div>"
      ],
      "text/plain": [
       "                                              Title  \\\n",
       "15236  PHONG CHO THUE FULL NOI THAT- CAO LO- QUAN 8   \n",
       "\n",
       "                                                 Address            Price  \\\n",
       "15236  Dia chi: 190 Duong Cao Lo, Phuong 4, Quan 8, H...  4.3 trieu/thang   \n",
       "\n",
       "      Acreage                                            Content        Id  \\\n",
       "15236     35m  * Chi con 1 Phong duy nhat, rat rong rai, co b...  284885.0   \n",
       "\n",
       "                Type_post  Tenant             Posting_time  \\\n",
       "15236  Phong tro, nha tro  Tat ca  Thu 7, 15:39 17/08/2019   \n",
       "\n",
       "                      End_time                Contact Phone_number  Zalo  \\\n",
       "15236  Thu 6, 12:50 23/08/2019  achin151819@gmail.com         None  None   \n",
       "\n",
       "                                                    Link  \n",
       "15236  https://phongtro123.com/tinh-thanh/ho-chi-minh...  "
      ]
     },
     "metadata": {},
     "output_type": "display_data"
    }
   ],
   "source": [
    "mask = room_df['Phone_number'].isnull() & room_df['Zalo'].isnull()\n",
    "display(room_df[mask])"
   ]
  },
  {
   "cell_type": "markdown",
   "metadata": {},
   "source": [
    "Người đăng bài đã để email thay vì số điện thoại nên dữ liệu sđt liên hệ bị thiếu."
   ]
  },
  {
   "cell_type": "markdown",
   "metadata": {},
   "source": [
    "## Tiền xử lý"
   ]
  },
  {
   "cell_type": "markdown",
   "metadata": {},
   "source": [
    "### Xóa các ký tự không cần thiết"
   ]
  },
  {
   "cell_type": "markdown",
   "metadata": {},
   "source": [
    "- Xóa chuỗi \"trieu/thang\", \"dong/thang\" của cột Price và chuyển ô có giá trị `Thoa thuan` thành `Nan`.Sau đó chuyển tất cả về đơn vị 'triệu/tháng'"
   ]
  },
  {
   "cell_type": "markdown",
   "metadata": {},
   "source": [
    "Ta sẽ chia thành 2 dataframe tương ứng với 2 đơn vị khác nhau để dễ xử lý hơn :"
   ]
  },
  {
   "cell_type": "code",
   "execution_count": 11,
   "metadata": {
    "scrolled": true
   },
   "outputs": [],
   "source": [
    "#temp là dataframe chứa các dòng với Price có đơn vị 'dong/thang'\n",
    "mask = room_df['Price'].str.contains('dong/thang')\n",
    "temp = room_df[mask]\n",
    "\n",
    "#room_df chứa các dòng còn lại\n",
    "room_df = room_df.drop(room_df[mask].index)"
   ]
  },
  {
   "cell_type": "markdown",
   "metadata": {},
   "source": [
    "Xóa chuỗi `trieu/thang` ở cột Price và chuyển ô `Thoa thuan` thành `Nan` :"
   ]
  },
  {
   "cell_type": "code",
   "execution_count": 12,
   "metadata": {},
   "outputs": [],
   "source": [
    "room_df.loc[room_df['Price'].astype(str) == 'Thoa thuan', 'Price'] = np.nan\n",
    "room_df['Price'] = room_df['Price'].str.replace(r'trieu/thang', '').str.strip()"
   ]
  },
  {
   "cell_type": "markdown",
   "metadata": {},
   "source": [
    "Xóa chuỗi `dong/thang` ở cột Price :"
   ]
  },
  {
   "cell_type": "code",
   "execution_count": 13,
   "metadata": {},
   "outputs": [],
   "source": [
    "#Khi chuyển 100.000 sang thập phân thì 3 chữ số 0 ở sau tự mất đi, do đó chỉ cần chia cho 1000\n",
    "temp['Price'] = pd.to_numeric(temp['Price'].str.replace(r'dong/thang', '').str.strip()) / 1000"
   ]
  },
  {
   "cell_type": "markdown",
   "metadata": {},
   "source": [
    "Gộp 2 dataframe đã sửa với nhau:"
   ]
  },
  {
   "cell_type": "code",
   "execution_count": 14,
   "metadata": {},
   "outputs": [],
   "source": [
    "room_df = pd.concat([room_df, temp])"
   ]
  },
  {
   "cell_type": "markdown",
   "metadata": {},
   "source": [
    "- Xóa chuỗi `Dia chi: ` của cột Address"
   ]
  },
  {
   "cell_type": "code",
   "execution_count": 15,
   "metadata": {},
   "outputs": [],
   "source": [
    "room_df['Address'] = room_df['Address'].apply(lambda x: x[9:])"
   ]
  },
  {
   "cell_type": "markdown",
   "metadata": {},
   "source": [
    "- Xóa đơn vị `m`,`m2` của cột Acreage"
   ]
  },
  {
   "cell_type": "code",
   "execution_count": 16,
   "metadata": {},
   "outputs": [],
   "source": [
    "room_df['Acreage'] = room_df['Acreage'].replace('m','', regex=True).replace('m2','', regex=True) \\\n",
    "                    .replace('M2','', regex=True).replace(',','.', regex=True).str.strip()\n",
    "\n",
    "#Xóa những dòng chứa kí tự lạ\n",
    "mask = room_df['Acreage'].str.contains('[+-]') \\\n",
    "    | room_df['Acreage'].str.contains('[x\\s]') \\\n",
    "    | room_df['Acreage'].str.contains('[~*]') \n",
    "\n",
    "room_df = room_df.drop(room_df[mask].index)"
   ]
  },
  {
   "cell_type": "markdown",
   "metadata": {},
   "source": [
    "- Xóa thứ ngày của cột Posting_time và cột End_time"
   ]
  },
  {
   "cell_type": "code",
   "execution_count": 17,
   "metadata": {},
   "outputs": [],
   "source": [
    "room_df['Posting_time'] = room_df['Posting_time'].apply(lambda x: x[-16:])\n",
    "room_df['End_time'] = room_df['End_time'].apply(lambda x: x[-16:])"
   ]
  },
  {
   "cell_type": "markdown",
   "metadata": {},
   "source": [
    "### Chuyển dtype của cột \"Id\"  sang dạng chuỗi"
   ]
  },
  {
   "cell_type": "markdown",
   "metadata": {},
   "source": [
    "Ta nhận thấy Id đang có kiểu dữ liệu `float`, ta sẽ chuyển nó về kiểu `str`. "
   ]
  },
  {
   "cell_type": "code",
   "execution_count": 18,
   "metadata": {},
   "outputs": [],
   "source": [
    "room_df['Id'] = room_df['Id'].astype(str)\n",
    "room_df['Id'] = room_df['Id'].apply(lambda x: x[:-2])"
   ]
  },
  {
   "cell_type": "markdown",
   "metadata": {},
   "source": [
    "Đặt cột Id thành Index"
   ]
  },
  {
   "cell_type": "code",
   "execution_count": 19,
   "metadata": {},
   "outputs": [],
   "source": [
    "room_df.set_index('Id', inplace=True)"
   ]
  },
  {
   "cell_type": "markdown",
   "metadata": {},
   "source": [
    "### Chuyển dtype của cột \"Price\" và 'Acreage'  sang số thực"
   ]
  },
  {
   "cell_type": "markdown",
   "metadata": {},
   "source": [
    "Ta sẽ chuyển dtype của 2 cột này từ `object` sang `float`:"
   ]
  },
  {
   "cell_type": "code",
   "execution_count": 20,
   "metadata": {},
   "outputs": [],
   "source": [
    "room_df['Price'] = room_df['Price'].astype(float)\n",
    "room_df['Acreage'] = room_df['Acreage'].astype(float)"
   ]
  },
  {
   "cell_type": "markdown",
   "metadata": {},
   "source": [
    "### Chuyển dtype của cột \"Posting_time\" và \"End_time\"  sang datetime"
   ]
  },
  {
   "cell_type": "markdown",
   "metadata": {},
   "source": [
    "Ta thực hiện việc chuyển dtype của 2 cột trên từ `object` sang `datetime` :"
   ]
  },
  {
   "cell_type": "code",
   "execution_count": 21,
   "metadata": {},
   "outputs": [],
   "source": [
    "room_df['Posting_time'] = pd.to_datetime(room_df['Posting_time'], format=\"%H:%M %d/%m/%Y\")\n",
    "room_df['End_time'] = pd.to_datetime(room_df['End_time'], format=\"%H:%M %d/%m/%Y\")"
   ]
  },
  {
   "cell_type": "markdown",
   "metadata": {},
   "source": [
    "Cuối cùng, ta kiểm tra lại kiểu dữ liệu của từng cột sau khi đã sửa định dạng:"
   ]
  },
  {
   "cell_type": "code",
   "execution_count": 22,
   "metadata": {},
   "outputs": [
    {
     "name": "stdout",
     "output_type": "stream",
     "text": [
      "[<class 'str'> <class 'NoneType'>]\n",
      "[<class 'str'> <class 'NoneType'>]\n",
      "[<class 'float'>]\n",
      "[<class 'float'>]\n",
      "[<class 'pandas._libs.tslibs.timestamps.Timestamp'>]\n",
      "[<class 'pandas._libs.tslibs.timestamps.Timestamp'>]\n"
     ]
    }
   ],
   "source": [
    "def print_real_dtype(col):\n",
    "    types = room_df[col].apply(type)\n",
    "    print(types.unique())\n",
    "print_real_dtype('Phone_number')\n",
    "print_real_dtype('Zalo')\n",
    "print_real_dtype('Price')\n",
    "print_real_dtype('Acreage')\n",
    "print_real_dtype('Posting_time')\n",
    "print_real_dtype('End_time')"
   ]
  },
  {
   "cell_type": "markdown",
   "metadata": {},
   "source": [
    "Ta thấy ở 2 cột 'Phone_number' và 'Zalo' có kiểu NoneType (không có giá trị), điều này khớp với dòng có giá trị bị thiếu đã được đề cập ở trên"
   ]
  },
  {
   "cell_type": "markdown",
   "metadata": {},
   "source": [
    "- Xóa các outliers giá do người dùng điền sai giá.\n",
    "    - Ở đây tụi em sẽ bỏ những price lớn hơn 1 tỷ hoặc nhỏ hơn 100.000đ"
   ]
  },
  {
   "cell_type": "code",
   "execution_count": 23,
   "metadata": {},
   "outputs": [],
   "source": [
    "room_df = room_df.query('Price < 1000 and Price > 0.1')"
   ]
  },
  {
   "cell_type": "markdown",
   "metadata": {},
   "source": [
    "Xem lại 1 vài dòng đẩu để kiểm tra kết quả:"
   ]
  },
  {
   "cell_type": "code",
   "execution_count": 24,
   "metadata": {
    "scrolled": true
   },
   "outputs": [
    {
     "data": {
      "text/html": [
       "<div>\n",
       "<style scoped>\n",
       "    .dataframe tbody tr th:only-of-type {\n",
       "        vertical-align: middle;\n",
       "    }\n",
       "\n",
       "    .dataframe tbody tr th {\n",
       "        vertical-align: top;\n",
       "    }\n",
       "\n",
       "    .dataframe thead th {\n",
       "        text-align: right;\n",
       "    }\n",
       "</style>\n",
       "<table border=\"1\" class=\"dataframe\">\n",
       "  <thead>\n",
       "    <tr style=\"text-align: right;\">\n",
       "      <th></th>\n",
       "      <th>Title</th>\n",
       "      <th>Address</th>\n",
       "      <th>Price</th>\n",
       "      <th>Acreage</th>\n",
       "      <th>Content</th>\n",
       "      <th>Type_post</th>\n",
       "      <th>Tenant</th>\n",
       "      <th>Posting_time</th>\n",
       "      <th>End_time</th>\n",
       "      <th>Contact</th>\n",
       "      <th>Phone_number</th>\n",
       "      <th>Zalo</th>\n",
       "      <th>Link</th>\n",
       "    </tr>\n",
       "    <tr>\n",
       "      <th>Id</th>\n",
       "      <th></th>\n",
       "      <th></th>\n",
       "      <th></th>\n",
       "      <th></th>\n",
       "      <th></th>\n",
       "      <th></th>\n",
       "      <th></th>\n",
       "      <th></th>\n",
       "      <th></th>\n",
       "      <th></th>\n",
       "      <th></th>\n",
       "      <th></th>\n",
       "      <th></th>\n",
       "    </tr>\n",
       "  </thead>\n",
       "  <tbody>\n",
       "    <tr>\n",
       "      <th>614102</th>\n",
       "      <td>4,8tr PHONG FULL NOI THAT DEP GIA RE TAN BINH</td>\n",
       "      <td>800 Duong Lac Long Quan, Phuong 9, Quan Tan Bi...</td>\n",
       "      <td>4.8</td>\n",
       "      <td>30.0</td>\n",
       "      <td>Phong rieng tu trong toa nha 2 mat tien thoang...</td>\n",
       "      <td>Phong tro, nha tro</td>\n",
       "      <td>Tat ca</td>\n",
       "      <td>2023-01-05 11:54:00</td>\n",
       "      <td>2023-01-10 11:54:00</td>\n",
       "      <td>Huynh Dang Quynh Trang</td>\n",
       "      <td>0938441538</td>\n",
       "      <td>0938441538</td>\n",
       "      <td>https://phongtro123.com/4-8tr-phong-full-noi-t...</td>\n",
       "    </tr>\n",
       "    <tr>\n",
       "      <th>612543</th>\n",
       "      <td>Cho thue phong tro moi xay, co may lanh, may g...</td>\n",
       "      <td>Duong Thong Nhat, Phuong 11, Quan Go Vap, Ho C...</td>\n",
       "      <td>2.8</td>\n",
       "      <td>20.0</td>\n",
       "      <td>PHONG MOI XAY, THOANG MAT, SACH SE || Dia chi:...</td>\n",
       "      <td>Phong tro, nha tro</td>\n",
       "      <td>Tat ca</td>\n",
       "      <td>2023-01-05 10:00:00</td>\n",
       "      <td>2023-01-12 10:00:00</td>\n",
       "      <td>Co Hanh</td>\n",
       "      <td>0919170897</td>\n",
       "      <td>0919170897</td>\n",
       "      <td>https://phongtro123.com/cho-thue-phong-tro-moi...</td>\n",
       "    </tr>\n",
       "    <tr>\n",
       "      <th>212446</th>\n",
       "      <td>PHONG TRO MOI XAY RAT DEP SO 373/1/2A DUONG LY...</td>\n",
       "      <td>373/1/2A Pho Ly Thuong Kiet, Phuong 9, Quan Ta...</td>\n",
       "      <td>4.0</td>\n",
       "      <td>20.0</td>\n",
       "      <td>PHONG TRO MOI, DEP SO 373/1/2a LY THUONG KIET,...</td>\n",
       "      <td>Phong tro, nha tro</td>\n",
       "      <td>Tat ca</td>\n",
       "      <td>2023-01-04 20:49:00</td>\n",
       "      <td>2023-01-12 20:49:00</td>\n",
       "      <td>hieuthanh2006 (*)</td>\n",
       "      <td>0918180057</td>\n",
       "      <td>0918180057</td>\n",
       "      <td>https://phongtro123.com/tinh-thanh/ho-chi-minh...</td>\n",
       "    </tr>\n",
       "    <tr>\n",
       "      <th>603145</th>\n",
       "      <td>Cho thue phong tro moi Duong Luong The Vinh, P...</td>\n",
       "      <td>48/13 Duong Luong The Vinh, Phuong Tan Thoi Ho...</td>\n",
       "      <td>1.8</td>\n",
       "      <td>20.0</td>\n",
       "      <td>Gia Phong tu 1800k den xem dam bao ung y, cam ...</td>\n",
       "      <td>Phong tro, nha tro</td>\n",
       "      <td>Tat ca</td>\n",
       "      <td>2023-01-01 13:10:00</td>\n",
       "      <td>2023-01-08 13:10:00</td>\n",
       "      <td>Nguyen Pham Duc Cuong</td>\n",
       "      <td>0938864405</td>\n",
       "      <td>0938864405</td>\n",
       "      <td>https://phongtro123.com/phong-tro-moi-xay-48-1...</td>\n",
       "    </tr>\n",
       "    <tr>\n",
       "      <th>315940</th>\n",
       "      <td>Cho thue phong moi dien tich 32m2, gia 5tr/tha...</td>\n",
       "      <td>Duong so 61, Phuong Thanh My Loi, Quan 2, Ho C...</td>\n",
       "      <td>5.0</td>\n",
       "      <td>32.0</td>\n",
       "      <td>Minh can cho thue phong moi dien tich 32m2, gi...</td>\n",
       "      <td>Phong tro, nha tro</td>\n",
       "      <td>Tat ca</td>\n",
       "      <td>2022-12-20 15:31:00</td>\n",
       "      <td>2023-02-03 11:04:00</td>\n",
       "      <td>Khanh</td>\n",
       "      <td>0989997054</td>\n",
       "      <td>0989997054</td>\n",
       "      <td>https://phongtro123.com/cho-thue-phong-moi-die...</td>\n",
       "    </tr>\n",
       "  </tbody>\n",
       "</table>\n",
       "</div>"
      ],
      "text/plain": [
       "                                                    Title  \\\n",
       "Id                                                          \n",
       "614102      4,8tr PHONG FULL NOI THAT DEP GIA RE TAN BINH   \n",
       "612543  Cho thue phong tro moi xay, co may lanh, may g...   \n",
       "212446  PHONG TRO MOI XAY RAT DEP SO 373/1/2A DUONG LY...   \n",
       "603145  Cho thue phong tro moi Duong Luong The Vinh, P...   \n",
       "315940  Cho thue phong moi dien tich 32m2, gia 5tr/tha...   \n",
       "\n",
       "                                                  Address  Price  Acreage  \\\n",
       "Id                                                                          \n",
       "614102  800 Duong Lac Long Quan, Phuong 9, Quan Tan Bi...    4.8     30.0   \n",
       "612543  Duong Thong Nhat, Phuong 11, Quan Go Vap, Ho C...    2.8     20.0   \n",
       "212446  373/1/2A Pho Ly Thuong Kiet, Phuong 9, Quan Ta...    4.0     20.0   \n",
       "603145  48/13 Duong Luong The Vinh, Phuong Tan Thoi Ho...    1.8     20.0   \n",
       "315940  Duong so 61, Phuong Thanh My Loi, Quan 2, Ho C...    5.0     32.0   \n",
       "\n",
       "                                                  Content           Type_post  \\\n",
       "Id                                                                              \n",
       "614102  Phong rieng tu trong toa nha 2 mat tien thoang...  Phong tro, nha tro   \n",
       "612543  PHONG MOI XAY, THOANG MAT, SACH SE || Dia chi:...  Phong tro, nha tro   \n",
       "212446  PHONG TRO MOI, DEP SO 373/1/2a LY THUONG KIET,...  Phong tro, nha tro   \n",
       "603145  Gia Phong tu 1800k den xem dam bao ung y, cam ...  Phong tro, nha tro   \n",
       "315940  Minh can cho thue phong moi dien tich 32m2, gi...  Phong tro, nha tro   \n",
       "\n",
       "        Tenant        Posting_time            End_time  \\\n",
       "Id                                                       \n",
       "614102  Tat ca 2023-01-05 11:54:00 2023-01-10 11:54:00   \n",
       "612543  Tat ca 2023-01-05 10:00:00 2023-01-12 10:00:00   \n",
       "212446  Tat ca 2023-01-04 20:49:00 2023-01-12 20:49:00   \n",
       "603145  Tat ca 2023-01-01 13:10:00 2023-01-08 13:10:00   \n",
       "315940  Tat ca 2022-12-20 15:31:00 2023-02-03 11:04:00   \n",
       "\n",
       "                       Contact Phone_number        Zalo  \\\n",
       "Id                                                        \n",
       "614102  Huynh Dang Quynh Trang   0938441538  0938441538   \n",
       "612543                 Co Hanh   0919170897  0919170897   \n",
       "212446       hieuthanh2006 (*)   0918180057  0918180057   \n",
       "603145   Nguyen Pham Duc Cuong   0938864405  0938864405   \n",
       "315940                   Khanh   0989997054  0989997054   \n",
       "\n",
       "                                                     Link  \n",
       "Id                                                         \n",
       "614102  https://phongtro123.com/4-8tr-phong-full-noi-t...  \n",
       "612543  https://phongtro123.com/cho-thue-phong-tro-moi...  \n",
       "212446  https://phongtro123.com/tinh-thanh/ho-chi-minh...  \n",
       "603145  https://phongtro123.com/phong-tro-moi-xay-48-1...  \n",
       "315940  https://phongtro123.com/cho-thue-phong-moi-die...  "
      ]
     },
     "metadata": {},
     "output_type": "display_data"
    }
   ],
   "source": [
    "display(room_df.head(5))"
   ]
  },
  {
   "cell_type": "markdown",
   "metadata": {},
   "source": [
    "### Với mỗi cột có kiểu dữ liệu dạng numeric, các giá trị được phân bố như thế nào?"
   ]
  },
  {
   "cell_type": "markdown",
   "metadata": {},
   "source": [
    "Ta sẽ xếp các cột datetime vào nhóm numeric luôn. Hiện tại, ta đang có 4 cột thuộc nhóm numeric là: \"Price\", \"Acreage\", \"Posting_time\" và \"End_time\". \n",
    "\n",
    "Với mỗi cột numeric ta sẽ tính tỉ lệ % giá trị thiếu (từ 0 đến 100), min, max. Kết quả sẽ được lưu vào dataframe `nume_col_profiles_df`. Dataframe này có 3 dòng là \"missing_ratio\", \"min\", \"max\" và có 4 cột là \"Price\", \"Acreage\", \"Posting_time\" và \"End_time\"."
   ]
  },
  {
   "cell_type": "code",
   "execution_count": 25,
   "metadata": {},
   "outputs": [
    {
     "data": {
      "text/html": [
       "<div>\n",
       "<style scoped>\n",
       "    .dataframe tbody tr th:only-of-type {\n",
       "        vertical-align: middle;\n",
       "    }\n",
       "\n",
       "    .dataframe tbody tr th {\n",
       "        vertical-align: top;\n",
       "    }\n",
       "\n",
       "    .dataframe thead th {\n",
       "        text-align: right;\n",
       "    }\n",
       "</style>\n",
       "<table border=\"1\" class=\"dataframe\">\n",
       "  <thead>\n",
       "    <tr style=\"text-align: right;\">\n",
       "      <th></th>\n",
       "      <th>Price</th>\n",
       "      <th>Acreage</th>\n",
       "      <th>Posting_time</th>\n",
       "      <th>End_time</th>\n",
       "    </tr>\n",
       "  </thead>\n",
       "  <tbody>\n",
       "    <tr>\n",
       "      <th>missing_ratio</th>\n",
       "      <td>0.0</td>\n",
       "      <td>0.0</td>\n",
       "      <td>0.0</td>\n",
       "      <td>0.0</td>\n",
       "    </tr>\n",
       "    <tr>\n",
       "      <th>min</th>\n",
       "      <td>0.16</td>\n",
       "      <td>0.0</td>\n",
       "      <td>2015-03-04 15:05:00</td>\n",
       "      <td>2015-12-11 21:49:00</td>\n",
       "    </tr>\n",
       "    <tr>\n",
       "      <th>max</th>\n",
       "      <td>800.0</td>\n",
       "      <td>1300.0</td>\n",
       "      <td>2023-01-07 23:15:00</td>\n",
       "      <td>2023-02-14 08:09:00</td>\n",
       "    </tr>\n",
       "  </tbody>\n",
       "</table>\n",
       "</div>"
      ],
      "text/plain": [
       "               Price Acreage         Posting_time             End_time\n",
       "missing_ratio    0.0     0.0                  0.0                  0.0\n",
       "min             0.16     0.0  2015-03-04 15:05:00  2015-12-11 21:49:00\n",
       "max            800.0  1300.0  2023-01-07 23:15:00  2023-02-14 08:09:00"
      ]
     },
     "execution_count": 25,
     "metadata": {},
     "output_type": "execute_result"
    }
   ],
   "source": [
    "nume_col_df = room_df[['Price', 'Acreage', 'Posting_time', 'End_time']]\n",
    "\n",
    "data = {\"missing_ratio\": nume_col_df.isna().mean().round(3) * 100,\n",
    "        \"min\": nume_col_df.min(),\n",
    "        \"max\": nume_col_df.max()}\n",
    "\n",
    "nume_col_profiles_df = pd.DataFrame(data).T\n",
    "nume_col_profiles_df"
   ]
  },
  {
   "cell_type": "markdown",
   "metadata": {},
   "source": [
    "Nhận xét:\n",
    "- Tuy tỉ lệ giá trị thiếu là 0 nhưng lại có những bài đăng để thông tin 'Acreage' là 0 ! (làm cho người thấy bài đăng mơ hồ, không biết rõ diện tích phòng trọ là bao nhiêu)\n",
    "- Trang web bắt đầu đăng bài từ năm 2015 đến nay.\n",
    "- Có những phòng trọ rất rẻ nhưng cũng có những phòng cực kì đắt đỏ với diện tích rất lớn (giống cho thuê chung cư hơn là phòng trọ !)."
   ]
  },
  {
   "cell_type": "markdown",
   "metadata": {},
   "source": [
    "### Với mỗi cột có kiểu dữ liệu dạng phân loại (categorical), các giá trị được phân bố như thế nào?"
   ]
  },
  {
   "cell_type": "markdown",
   "metadata": {},
   "source": [
    "Các cột còn lại được phân vào dạng categorical là \"Title\", \"Address\", \"Content\", \"Type_post\", \"Tenant\", \"Contact\", \"Phone_number\",  \"Zalo\" và \"Link\".\\\n",
    "\\\n",
    "Với mỗi cột categorical, ta tính tỉ lệ % giá trị thiếu (từ 0 đến 100), số lượng giá trị khác nhau (không xét giá trị thiếu), list/array các giá trị khác nhau (không xét giá trị thiếu). Ta lưu kết quả vào dataframe `cate_col_profiles_df`. Dataframe này có 3 dòng là \"missing_ratio\", \"num_diff_vals\", \"diff_vals\"; và có 9 cột là \"Title\", \"Address\", \"Content\", \"Type_post\", \"Tenant\", \"Contact\", \"Phone_number\",  \"Zalo\" và \"Link\"."
   ]
  },
  {
   "cell_type": "code",
   "execution_count": 26,
   "metadata": {
    "scrolled": true
   },
   "outputs": [
    {
     "data": {
      "text/html": [
       "<div>\n",
       "<style scoped>\n",
       "    .dataframe tbody tr th:only-of-type {\n",
       "        vertical-align: middle;\n",
       "    }\n",
       "\n",
       "    .dataframe tbody tr th {\n",
       "        vertical-align: top;\n",
       "    }\n",
       "\n",
       "    .dataframe thead th {\n",
       "        text-align: right;\n",
       "    }\n",
       "</style>\n",
       "<table border=\"1\" class=\"dataframe\">\n",
       "  <thead>\n",
       "    <tr style=\"text-align: right;\">\n",
       "      <th></th>\n",
       "      <th>Title</th>\n",
       "      <th>Address</th>\n",
       "      <th>Content</th>\n",
       "      <th>Type_post</th>\n",
       "      <th>Tenant</th>\n",
       "      <th>Contact</th>\n",
       "      <th>Phone_number</th>\n",
       "      <th>Zalo</th>\n",
       "      <th>Link</th>\n",
       "    </tr>\n",
       "  </thead>\n",
       "  <tbody>\n",
       "    <tr>\n",
       "      <th>missing_ratio</th>\n",
       "      <td>0.0</td>\n",
       "      <td>0.0</td>\n",
       "      <td>0.0</td>\n",
       "      <td>0.0</td>\n",
       "      <td>0.0</td>\n",
       "      <td>0.0</td>\n",
       "      <td>0.002073</td>\n",
       "      <td>0.002073</td>\n",
       "      <td>0.0</td>\n",
       "    </tr>\n",
       "    <tr>\n",
       "      <th>num_diff_vals</th>\n",
       "      <td>47188</td>\n",
       "      <td>27711</td>\n",
       "      <td>47129</td>\n",
       "      <td>4</td>\n",
       "      <td>3</td>\n",
       "      <td>20396</td>\n",
       "      <td>23769</td>\n",
       "      <td>23546</td>\n",
       "      <td>48243</td>\n",
       "    </tr>\n",
       "    <tr>\n",
       "      <th>diff_vals</th>\n",
       "      <td>[Ki tuc xa 54/20 Bach Dang gan san bay, cong v...</td>\n",
       "      <td>[Duong Nguyen Thi Thap, Phuong Binh Thuan, Qua...</td>\n",
       "      <td>[,  , **Tien ich can phong: || - May lanh. || ...</td>\n",
       "      <td>[Phong tro, nha tro, Cho thue can ho, Tim nguo...</td>\n",
       "      <td>[Tat ca, Nu, Nam]</td>\n",
       "      <td>[chu nha, Tran Van Tinh, quantri, He Thong 120...</td>\n",
       "      <td>[0796941691, 0917460309, 0974929266, 090271469...</td>\n",
       "      <td>[0917686101, 0796941691, 0917460309, 097492926...</td>\n",
       "      <td>[https://phongtro123.com/tinh-thanh/ho-chi-min...</td>\n",
       "    </tr>\n",
       "  </tbody>\n",
       "</table>\n",
       "</div>"
      ],
      "text/plain": [
       "                                                           Title  \\\n",
       "missing_ratio                                                0.0   \n",
       "num_diff_vals                                              47188   \n",
       "diff_vals      [Ki tuc xa 54/20 Bach Dang gan san bay, cong v...   \n",
       "\n",
       "                                                         Address  \\\n",
       "missing_ratio                                                0.0   \n",
       "num_diff_vals                                              27711   \n",
       "diff_vals      [Duong Nguyen Thi Thap, Phuong Binh Thuan, Qua...   \n",
       "\n",
       "                                                         Content  \\\n",
       "missing_ratio                                                0.0   \n",
       "num_diff_vals                                              47129   \n",
       "diff_vals      [,  , **Tien ich can phong: || - May lanh. || ...   \n",
       "\n",
       "                                                       Type_post  \\\n",
       "missing_ratio                                                0.0   \n",
       "num_diff_vals                                                  4   \n",
       "diff_vals      [Phong tro, nha tro, Cho thue can ho, Tim nguo...   \n",
       "\n",
       "                          Tenant  \\\n",
       "missing_ratio                0.0   \n",
       "num_diff_vals                  3   \n",
       "diff_vals      [Tat ca, Nu, Nam]   \n",
       "\n",
       "                                                         Contact  \\\n",
       "missing_ratio                                                0.0   \n",
       "num_diff_vals                                              20396   \n",
       "diff_vals      [chu nha, Tran Van Tinh, quantri, He Thong 120...   \n",
       "\n",
       "                                                    Phone_number  \\\n",
       "missing_ratio                                           0.002073   \n",
       "num_diff_vals                                              23769   \n",
       "diff_vals      [0796941691, 0917460309, 0974929266, 090271469...   \n",
       "\n",
       "                                                            Zalo  \\\n",
       "missing_ratio                                           0.002073   \n",
       "num_diff_vals                                              23546   \n",
       "diff_vals      [0917686101, 0796941691, 0917460309, 097492926...   \n",
       "\n",
       "                                                            Link  \n",
       "missing_ratio                                                0.0  \n",
       "num_diff_vals                                              48243  \n",
       "diff_vals      [https://phongtro123.com/tinh-thanh/ho-chi-min...  "
      ]
     },
     "execution_count": 26,
     "metadata": {},
     "output_type": "execute_result"
    }
   ],
   "source": [
    "cate_col_df = room_df[[\"Title\", \"Address\", \"Content\", \"Type_post\", \"Tenant\", \"Contact\", \"Phone_number\", \"Zalo\", \"Link\"]]\n",
    "cate_col_profiles_dict = {}\n",
    "\n",
    "missing_ratio = cate_col_df.apply(lambda x: x.isna().mean() * 100, axis = 0)\n",
    "diff_vals = cate_col_df.apply(lambda x: list(x.value_counts(dropna = True).index), axis = 0)\n",
    "num_diff_vals = diff_vals.apply(len)\n",
    "\n",
    "cate_col_profiles_df = pd.DataFrame([missing_ratio, num_diff_vals, diff_vals] \\\n",
    "                                    , index = [\"missing_ratio\", \"num_diff_vals\", \"diff_vals\"] )\n",
    "cate_col_profiles_df"
   ]
  },
  {
   "cell_type": "markdown",
   "metadata": {},
   "source": [
    "Có vẻ như không có gì bất thường, đúng với những mô tả ở trên."
   ]
  },
  {
   "cell_type": "markdown",
   "metadata": {},
   "source": [
    "## 3. Đưa ra các câu hỏi có ý nghĩa cần trả lời"
   ]
  },
  {
   "cell_type": "markdown",
   "metadata": {},
   "source": [
    "Sau khi đã khám phá dữ liệu và hiểu hơn về dữ liệu, ta thấy có một số câu hỏi có thể được trả lời bằng dữ liệu:\n",
    "- Top 3 quận có giá tiền thuê trọ trung bình cao nhất và thấp nhất?\n",
    "    \n",
    "        Ý nghĩa: với câu hỏi trên, ta biết được những khu vực tập trung nhiều phòng trọ giá rẻ nhất và mắc nhất để người thuê có thể cân nhắc chọn địa điểm sinh sống phù hợp với tài chính của mình.\n",
    "- Sự biến thiên về số lượng giữa các nhà trọ mà nam giới và nữ giới có thể thuê được theo từng tiêu chí khác nhau ?\n",
    "\n",
    "        Ý nghĩa: với câu hỏi trên, ta biết được nam và nữ có thể thuê được bao nhiêu nhà trọ dựa trên từng tiêu chí, từ đó so sánh để xem bên nào sẽ có nhiều lợi thế hơn trong việc chọn nhà trọ thích hợp cho mình."
   ]
  },
  {
   "cell_type": "markdown",
   "metadata": {},
   "source": [
    "## 4. Tiền xử lý + phân tích dữ liệu để trả lời cho từng câu hỏi"
   ]
  },
  {
   "cell_type": "markdown",
   "metadata": {},
   "source": [
    "## Tiền xử lý"
   ]
  },
  {
   "cell_type": "markdown",
   "metadata": {},
   "source": [
    "Để dễ dàng cho việc trả lời các câu hỏi, ta sẽ tạo ra cột District từ cột Address"
   ]
  },
  {
   "cell_type": "code",
   "execution_count": 27,
   "metadata": {},
   "outputs": [],
   "source": [
    "def get_district(address):\n",
    "  # Tạo một danh sách các quận huyện trong thành phố HCM\n",
    "  districts = ['Quan 1', 'Quan 2', 'Quan 3', 'Quan 4', 'Quan 5', 'Quan 6', 'Quan 7', 'Quan 8', 'Quan 9', 'Quan 10', 'Quan 11', \n",
    "               'Quan 12', 'Thu Duc', 'Go Vap', 'Binh Thanh', 'Tan Binh', 'Tan Phu', 'Phu Nhuan', 'Binh Tan', 'Cu Chi', \n",
    "               'Hoc Mon', 'Binh Chanh', 'Nha Be', 'Can Gio']  \n",
    "  \n",
    "  # Duyệt qua các quận huyện trong danh sách và kiểm tra xem có trong chuỗi address không\n",
    "  for district in districts:\n",
    "    upper_district = district.upper()\n",
    "    if upper_district in address.upper():\n",
    "      return district\n",
    "    split = upper_district.split()\n",
    "    \n",
    "    #Đối với các quận có đánh số thì sẽ có nhiều địa chỉ viết tắt, do đó sẽ xét thêm các trường hợp này\n",
    "    if upper_district[0]=='Q':\n",
    "        number_district = split[1]                      #Số thứ tự quận\n",
    "        district_type1 = 'Q' + number_district          #VD: Q5\n",
    "        district_type2 = 'Q.' + number_district         #VD: Q.5\n",
    "        district_type3 = 'QUAN 0' + number_district     #VD: QUAN 05\n",
    "    if district_type1 in address.upper() or district_type2 in address.upper() or district_type3 in address.upper():\n",
    "        return district"
   ]
  },
  {
   "cell_type": "code",
   "execution_count": 28,
   "metadata": {},
   "outputs": [
    {
     "data": {
      "text/html": [
       "<div>\n",
       "<style scoped>\n",
       "    .dataframe tbody tr th:only-of-type {\n",
       "        vertical-align: middle;\n",
       "    }\n",
       "\n",
       "    .dataframe tbody tr th {\n",
       "        vertical-align: top;\n",
       "    }\n",
       "\n",
       "    .dataframe thead th {\n",
       "        text-align: right;\n",
       "    }\n",
       "</style>\n",
       "<table border=\"1\" class=\"dataframe\">\n",
       "  <thead>\n",
       "    <tr style=\"text-align: right;\">\n",
       "      <th></th>\n",
       "      <th>Title</th>\n",
       "      <th>District</th>\n",
       "      <th>Address</th>\n",
       "      <th>Price</th>\n",
       "      <th>Acreage</th>\n",
       "      <th>Content</th>\n",
       "      <th>Type_post</th>\n",
       "      <th>Tenant</th>\n",
       "      <th>Posting_time</th>\n",
       "      <th>End_time</th>\n",
       "      <th>Contact</th>\n",
       "      <th>Phone_number</th>\n",
       "      <th>Zalo</th>\n",
       "      <th>Link</th>\n",
       "    </tr>\n",
       "    <tr>\n",
       "      <th>Id</th>\n",
       "      <th></th>\n",
       "      <th></th>\n",
       "      <th></th>\n",
       "      <th></th>\n",
       "      <th></th>\n",
       "      <th></th>\n",
       "      <th></th>\n",
       "      <th></th>\n",
       "      <th></th>\n",
       "      <th></th>\n",
       "      <th></th>\n",
       "      <th></th>\n",
       "      <th></th>\n",
       "      <th></th>\n",
       "    </tr>\n",
       "  </thead>\n",
       "  <tbody>\n",
       "    <tr>\n",
       "      <th>614102</th>\n",
       "      <td>4,8tr PHONG FULL NOI THAT DEP GIA RE TAN BINH</td>\n",
       "      <td>Tan Binh</td>\n",
       "      <td>800 Duong Lac Long Quan, Phuong 9, Quan Tan Bi...</td>\n",
       "      <td>4.8</td>\n",
       "      <td>30.0</td>\n",
       "      <td>Phong rieng tu trong toa nha 2 mat tien thoang...</td>\n",
       "      <td>Phong tro, nha tro</td>\n",
       "      <td>Tat ca</td>\n",
       "      <td>2023-01-05 11:54:00</td>\n",
       "      <td>2023-01-10 11:54:00</td>\n",
       "      <td>Huynh Dang Quynh Trang</td>\n",
       "      <td>0938441538</td>\n",
       "      <td>0938441538</td>\n",
       "      <td>https://phongtro123.com/4-8tr-phong-full-noi-t...</td>\n",
       "    </tr>\n",
       "    <tr>\n",
       "      <th>612543</th>\n",
       "      <td>Cho thue phong tro moi xay, co may lanh, may g...</td>\n",
       "      <td>Go Vap</td>\n",
       "      <td>Duong Thong Nhat, Phuong 11, Quan Go Vap, Ho C...</td>\n",
       "      <td>2.8</td>\n",
       "      <td>20.0</td>\n",
       "      <td>PHONG MOI XAY, THOANG MAT, SACH SE || Dia chi:...</td>\n",
       "      <td>Phong tro, nha tro</td>\n",
       "      <td>Tat ca</td>\n",
       "      <td>2023-01-05 10:00:00</td>\n",
       "      <td>2023-01-12 10:00:00</td>\n",
       "      <td>Co Hanh</td>\n",
       "      <td>0919170897</td>\n",
       "      <td>0919170897</td>\n",
       "      <td>https://phongtro123.com/cho-thue-phong-tro-moi...</td>\n",
       "    </tr>\n",
       "    <tr>\n",
       "      <th>212446</th>\n",
       "      <td>PHONG TRO MOI XAY RAT DEP SO 373/1/2A DUONG LY...</td>\n",
       "      <td>Tan Binh</td>\n",
       "      <td>373/1/2A Pho Ly Thuong Kiet, Phuong 9, Quan Ta...</td>\n",
       "      <td>4.0</td>\n",
       "      <td>20.0</td>\n",
       "      <td>PHONG TRO MOI, DEP SO 373/1/2a LY THUONG KIET,...</td>\n",
       "      <td>Phong tro, nha tro</td>\n",
       "      <td>Tat ca</td>\n",
       "      <td>2023-01-04 20:49:00</td>\n",
       "      <td>2023-01-12 20:49:00</td>\n",
       "      <td>hieuthanh2006 (*)</td>\n",
       "      <td>0918180057</td>\n",
       "      <td>0918180057</td>\n",
       "      <td>https://phongtro123.com/tinh-thanh/ho-chi-minh...</td>\n",
       "    </tr>\n",
       "    <tr>\n",
       "      <th>603145</th>\n",
       "      <td>Cho thue phong tro moi Duong Luong The Vinh, P...</td>\n",
       "      <td>Tan Phu</td>\n",
       "      <td>48/13 Duong Luong The Vinh, Phuong Tan Thoi Ho...</td>\n",
       "      <td>1.8</td>\n",
       "      <td>20.0</td>\n",
       "      <td>Gia Phong tu 1800k den xem dam bao ung y, cam ...</td>\n",
       "      <td>Phong tro, nha tro</td>\n",
       "      <td>Tat ca</td>\n",
       "      <td>2023-01-01 13:10:00</td>\n",
       "      <td>2023-01-08 13:10:00</td>\n",
       "      <td>Nguyen Pham Duc Cuong</td>\n",
       "      <td>0938864405</td>\n",
       "      <td>0938864405</td>\n",
       "      <td>https://phongtro123.com/phong-tro-moi-xay-48-1...</td>\n",
       "    </tr>\n",
       "    <tr>\n",
       "      <th>315940</th>\n",
       "      <td>Cho thue phong moi dien tich 32m2, gia 5tr/tha...</td>\n",
       "      <td>Quan 2</td>\n",
       "      <td>Duong so 61, Phuong Thanh My Loi, Quan 2, Ho C...</td>\n",
       "      <td>5.0</td>\n",
       "      <td>32.0</td>\n",
       "      <td>Minh can cho thue phong moi dien tich 32m2, gi...</td>\n",
       "      <td>Phong tro, nha tro</td>\n",
       "      <td>Tat ca</td>\n",
       "      <td>2022-12-20 15:31:00</td>\n",
       "      <td>2023-02-03 11:04:00</td>\n",
       "      <td>Khanh</td>\n",
       "      <td>0989997054</td>\n",
       "      <td>0989997054</td>\n",
       "      <td>https://phongtro123.com/cho-thue-phong-moi-die...</td>\n",
       "    </tr>\n",
       "  </tbody>\n",
       "</table>\n",
       "</div>"
      ],
      "text/plain": [
       "                                                    Title  District  \\\n",
       "Id                                                                    \n",
       "614102      4,8tr PHONG FULL NOI THAT DEP GIA RE TAN BINH  Tan Binh   \n",
       "612543  Cho thue phong tro moi xay, co may lanh, may g...    Go Vap   \n",
       "212446  PHONG TRO MOI XAY RAT DEP SO 373/1/2A DUONG LY...  Tan Binh   \n",
       "603145  Cho thue phong tro moi Duong Luong The Vinh, P...   Tan Phu   \n",
       "315940  Cho thue phong moi dien tich 32m2, gia 5tr/tha...    Quan 2   \n",
       "\n",
       "                                                  Address  Price  Acreage  \\\n",
       "Id                                                                          \n",
       "614102  800 Duong Lac Long Quan, Phuong 9, Quan Tan Bi...    4.8     30.0   \n",
       "612543  Duong Thong Nhat, Phuong 11, Quan Go Vap, Ho C...    2.8     20.0   \n",
       "212446  373/1/2A Pho Ly Thuong Kiet, Phuong 9, Quan Ta...    4.0     20.0   \n",
       "603145  48/13 Duong Luong The Vinh, Phuong Tan Thoi Ho...    1.8     20.0   \n",
       "315940  Duong so 61, Phuong Thanh My Loi, Quan 2, Ho C...    5.0     32.0   \n",
       "\n",
       "                                                  Content           Type_post  \\\n",
       "Id                                                                              \n",
       "614102  Phong rieng tu trong toa nha 2 mat tien thoang...  Phong tro, nha tro   \n",
       "612543  PHONG MOI XAY, THOANG MAT, SACH SE || Dia chi:...  Phong tro, nha tro   \n",
       "212446  PHONG TRO MOI, DEP SO 373/1/2a LY THUONG KIET,...  Phong tro, nha tro   \n",
       "603145  Gia Phong tu 1800k den xem dam bao ung y, cam ...  Phong tro, nha tro   \n",
       "315940  Minh can cho thue phong moi dien tich 32m2, gi...  Phong tro, nha tro   \n",
       "\n",
       "        Tenant        Posting_time            End_time  \\\n",
       "Id                                                       \n",
       "614102  Tat ca 2023-01-05 11:54:00 2023-01-10 11:54:00   \n",
       "612543  Tat ca 2023-01-05 10:00:00 2023-01-12 10:00:00   \n",
       "212446  Tat ca 2023-01-04 20:49:00 2023-01-12 20:49:00   \n",
       "603145  Tat ca 2023-01-01 13:10:00 2023-01-08 13:10:00   \n",
       "315940  Tat ca 2022-12-20 15:31:00 2023-02-03 11:04:00   \n",
       "\n",
       "                       Contact Phone_number        Zalo  \\\n",
       "Id                                                        \n",
       "614102  Huynh Dang Quynh Trang   0938441538  0938441538   \n",
       "612543                 Co Hanh   0919170897  0919170897   \n",
       "212446       hieuthanh2006 (*)   0918180057  0918180057   \n",
       "603145   Nguyen Pham Duc Cuong   0938864405  0938864405   \n",
       "315940                   Khanh   0989997054  0989997054   \n",
       "\n",
       "                                                     Link  \n",
       "Id                                                         \n",
       "614102  https://phongtro123.com/4-8tr-phong-full-noi-t...  \n",
       "612543  https://phongtro123.com/cho-thue-phong-tro-moi...  \n",
       "212446  https://phongtro123.com/tinh-thanh/ho-chi-minh...  \n",
       "603145  https://phongtro123.com/phong-tro-moi-xay-48-1...  \n",
       "315940  https://phongtro123.com/cho-thue-phong-moi-die...  "
      ]
     },
     "metadata": {},
     "output_type": "display_data"
    }
   ],
   "source": [
    "room_df['District'] = room_df['Address'].apply(get_district)\n",
    "# Di chuyển cột District đến trước cột Address\n",
    "# Lấy danh sách tên cột của dataframe\n",
    "columns = list(room_df.columns)\n",
    "\n",
    "# Tìm vị trí của cột \"A\" và \"B\" trong danh sách\n",
    "column_index_District = columns.index('District')\n",
    "column_index_Address = columns.index('Address')\n",
    "\n",
    "# Xóa cột \"A\" khỏi danh sách\n",
    "columns.pop(column_index_District)\n",
    "# Thêm cột \"A\" vào sau cột \"B\"\n",
    "columns.insert(column_index_Address, 'District')\n",
    "\n",
    "# Đổi vị trí các cột theo danh sách mới\n",
    "room_df = room_df.reindex(columns=columns)\n",
    "display(room_df.head())"
   ]
  },
  {
   "cell_type": "markdown",
   "metadata": {},
   "source": [
    "### 4.1. Top 3 quận có giá tiền thuê trọ trung bình cao nhất và thấp nhất?\n",
    "\n",
    "Để trả lời cho câu hỏi này, ta sẽ làm như sau:\n",
    "- Bước 1: Phân loại tìm tính toán giá tiền thuê trung bình của các quận, chọn ra Top 3 quận có giá tiền thuê trọ trung bình cao nhất và thấp nhất. Ta lưu kết quả vào 2 series `rent_cost_high` và `rent_cost_low` , trong đó index là tên các quận.\n",
    "- Bước 2: Từ kết quả ở trên, ta vẽ 2 đồ thị dạng cột, trong đó trục hoành là tên quận và trục tung là giá tiền thuê trung bình.Ta đặt tên trục hoành là \"District\" và tên trục tung là \"Rent_cost\"."
   ]
  },
  {
   "cell_type": "markdown",
   "metadata": {},
   "source": [
    "Phân loại tìm tính toán giá tiền thuê trung bình của các quận, chọn ra Top 3 quận có giá tiền thuê trọ trung bình cao nhất và thấp nhất. Ta lưu kết quả vào 2 series `rent_cost_high` và `rent_cost_low` , trong đó index là tên các quận."
   ]
  },
  {
   "cell_type": "code",
   "execution_count": 29,
   "metadata": {},
   "outputs": [
    {
     "data": {
      "text/html": [
       "<div>\n",
       "<style scoped>\n",
       "    .dataframe tbody tr th:only-of-type {\n",
       "        vertical-align: middle;\n",
       "    }\n",
       "\n",
       "    .dataframe tbody tr th {\n",
       "        vertical-align: top;\n",
       "    }\n",
       "\n",
       "    .dataframe thead th {\n",
       "        text-align: right;\n",
       "    }\n",
       "</style>\n",
       "<table border=\"1\" class=\"dataframe\">\n",
       "  <thead>\n",
       "    <tr style=\"text-align: right;\">\n",
       "      <th></th>\n",
       "      <th>District</th>\n",
       "      <th>Mean_cost</th>\n",
       "    </tr>\n",
       "  </thead>\n",
       "  <tbody>\n",
       "    <tr>\n",
       "      <th>0</th>\n",
       "      <td>Binh Chanh</td>\n",
       "      <td>33.921429</td>\n",
       "    </tr>\n",
       "    <tr>\n",
       "      <th>1</th>\n",
       "      <td>Quan 2</td>\n",
       "      <td>30.757220</td>\n",
       "    </tr>\n",
       "    <tr>\n",
       "      <th>2</th>\n",
       "      <td>Quan 9</td>\n",
       "      <td>28.958227</td>\n",
       "    </tr>\n",
       "    <tr>\n",
       "      <th>3</th>\n",
       "      <td>Nha Be</td>\n",
       "      <td>27.350694</td>\n",
       "    </tr>\n",
       "    <tr>\n",
       "      <th>4</th>\n",
       "      <td>Quan 8</td>\n",
       "      <td>27.208967</td>\n",
       "    </tr>\n",
       "    <tr>\n",
       "      <th>5</th>\n",
       "      <td>Thu Duc</td>\n",
       "      <td>27.127652</td>\n",
       "    </tr>\n",
       "    <tr>\n",
       "      <th>6</th>\n",
       "      <td>Quan 7</td>\n",
       "      <td>27.118022</td>\n",
       "    </tr>\n",
       "    <tr>\n",
       "      <th>7</th>\n",
       "      <td>Phu Nhuan</td>\n",
       "      <td>27.116168</td>\n",
       "    </tr>\n",
       "    <tr>\n",
       "      <th>8</th>\n",
       "      <td>Binh Thanh</td>\n",
       "      <td>26.939930</td>\n",
       "    </tr>\n",
       "    <tr>\n",
       "      <th>9</th>\n",
       "      <td>Go Vap</td>\n",
       "      <td>26.265371</td>\n",
       "    </tr>\n",
       "    <tr>\n",
       "      <th>10</th>\n",
       "      <td>Quan 1</td>\n",
       "      <td>26.047996</td>\n",
       "    </tr>\n",
       "    <tr>\n",
       "      <th>11</th>\n",
       "      <td>Tan Binh</td>\n",
       "      <td>25.949238</td>\n",
       "    </tr>\n",
       "    <tr>\n",
       "      <th>12</th>\n",
       "      <td>Quan 5</td>\n",
       "      <td>25.529217</td>\n",
       "    </tr>\n",
       "    <tr>\n",
       "      <th>13</th>\n",
       "      <td>Quan 4</td>\n",
       "      <td>25.275839</td>\n",
       "    </tr>\n",
       "    <tr>\n",
       "      <th>14</th>\n",
       "      <td>Quan 3</td>\n",
       "      <td>25.140064</td>\n",
       "    </tr>\n",
       "    <tr>\n",
       "      <th>15</th>\n",
       "      <td>Binh Tan</td>\n",
       "      <td>25.020275</td>\n",
       "    </tr>\n",
       "    <tr>\n",
       "      <th>16</th>\n",
       "      <td>Quan 6</td>\n",
       "      <td>24.820873</td>\n",
       "    </tr>\n",
       "    <tr>\n",
       "      <th>17</th>\n",
       "      <td>Tan Phu</td>\n",
       "      <td>24.815342</td>\n",
       "    </tr>\n",
       "    <tr>\n",
       "      <th>18</th>\n",
       "      <td>Hoc Mon</td>\n",
       "      <td>23.336538</td>\n",
       "    </tr>\n",
       "    <tr>\n",
       "      <th>19</th>\n",
       "      <td>Cu Chi</td>\n",
       "      <td>22.321429</td>\n",
       "    </tr>\n",
       "  </tbody>\n",
       "</table>\n",
       "</div>"
      ],
      "text/plain": [
       "      District  Mean_cost\n",
       "0   Binh Chanh  33.921429\n",
       "1       Quan 2  30.757220\n",
       "2       Quan 9  28.958227\n",
       "3       Nha Be  27.350694\n",
       "4       Quan 8  27.208967\n",
       "5      Thu Duc  27.127652\n",
       "6       Quan 7  27.118022\n",
       "7    Phu Nhuan  27.116168\n",
       "8   Binh Thanh  26.939930\n",
       "9       Go Vap  26.265371\n",
       "10      Quan 1  26.047996\n",
       "11    Tan Binh  25.949238\n",
       "12      Quan 5  25.529217\n",
       "13      Quan 4  25.275839\n",
       "14      Quan 3  25.140064\n",
       "15    Binh Tan  25.020275\n",
       "16      Quan 6  24.820873\n",
       "17     Tan Phu  24.815342\n",
       "18     Hoc Mon  23.336538\n",
       "19      Cu Chi  22.321429"
      ]
     },
     "execution_count": 29,
     "metadata": {},
     "output_type": "execute_result"
    }
   ],
   "source": [
    "rent_cost = room_df.groupby('District')['Acreage'].mean().rename('Mean_cost').to_frame()\n",
    "rent_cost = rent_cost.sort_values(by = ['Mean_cost'], ascending = False).reset_index()\n",
    "rent_cost"
   ]
  },
  {
   "cell_type": "markdown",
   "metadata": {},
   "source": [
    "Từ kết quả ở trên, ta vẽ 2 đồ thị dạng cột, trong đó trục hoành là tên quận và trục tung là giá tiền thuê trung bình.Ta đặt tên trục hoành là \"District\" và tên trục tung là \"Rent_cost\"."
   ]
  },
  {
   "cell_type": "code",
   "execution_count": 30,
   "metadata": {},
   "outputs": [
    {
     "data": {
      "image/png": "[encoded data removed]",
      "text/plain": [
       "<Figure size 1000x500 with 2 Axes>"
      ]
     },
     "metadata": {},
     "output_type": "display_data"
    }
   ],
   "source": [
    "# Sắp xếp cột \"Trung bình\" theo thứ tự giảm dần và lấy ra top 3 dòng\n",
    "df_top3_high = rent_cost.sort_values(by = 'Mean_cost', ascending = False).head(3)\n",
    "\n",
    "# Sắp xếp cột \"Trung bình\" theo thứ tự tăng dần và lấy ra top 3 dòng\n",
    "df_top3_low = rent_cost.sort_values(by = 'Mean_cost', ascending = True).head(3)\n",
    "\n",
    "# Tạo figure với 2 subplot\n",
    "fig, ax = plt.subplots(1, 2, figsize = (10, 5))\n",
    "\n",
    "# Vẽ biểu đồ cột cho top 3 trung bình cao nhất trên subplot đầu tiên\n",
    "df_top3_high.plot.bar(x = 'District', y = 'Mean_cost', ax = ax[0])\n",
    "ax[0].set_title('Top 3 trung bình giá thuê cao nhất')\n",
    "\n",
    "# Vẽ biểu đồ cột cho top 3 trNhóung bình thấp nhất trên subplot thứ hai\n",
    "df_top3_low.plot.bar(x = 'District', y = 'Mean_cost', ax = ax[1])\n",
    "ax[1].set_title('Top 3 trung bình giá thuê thấp nhất')\n",
    "\n",
    "plt.show()"
   ]
  },
  {
   "cell_type": "markdown",
   "metadata": {},
   "source": [
    "Nhìn chung, để đánh giá được mức giá thuê trọ của một khu vực là cao hay thấp, ta cần căn cứ vào nhiều yếu tố chứ không chỉ là giá tiền thuê. Tuy nhiên kết quả trên cũng phản ánh một phần độ mức chi phí thuê trọ ở các khu vực trên địa bàn Tp.HCM."
   ]
  },
  {
   "cell_type": "markdown",
   "metadata": {},
   "source": [
    "Với top 3 khu vực có mức phí thuê trọ cao nhất, các quận/huyện như Bình Chánh, quận 2, quận 9, ta có một số giải thích cho kết quả này như sau:\n",
    "- Huyện Bình Chánh là một huyện có diện tích lớn nhất tại TP. Hồ Chí Minh, nó nằm trong khu vực ngoại ô thành phố và có rất nhiều khu dân cư và khu công nghiệp. Huyện Bình Chánh đang phát triển mạnh mẽ và trở thành một trong những huyện có tốc độ phát triển cao nhất tại TP. Hồ Chí Minh và có nhiều dự án đầu tư và xây dựng mới, do đó giá thuê trọ tại đây có thể khá cao so với một số huyện khác tại TP. Hồ Chí Minh.\n",
    "- Quận 2 là một trong những quận có giá thuê trọ cao tại TP. Hồ Chí Minh, do nó nằm trong khu vực trung tâm thành phố và có rất nhiều tiện ích. Quận 2 có nhiều khu dân cư cao cấp và có một số trường học quốc tế hàng đầu, nên giá thuê trọ tại đây cũng khá cao.\n",
    "- Quận 9 là một trong những quận có giá thuê trọ cao tại TP. Hồ Chí Minh, do nó nằm trong khu vực ngoại ô thành phố và có rất nhiều tiện ích. Quận 9 có nhiều khu dân cư cao cấp và có một số trường học quốc tế hàng đầu, nên giá thuê trọ tại đây cũng khá cao."
   ]
  },
  {
   "cell_type": "markdown",
   "metadata": {},
   "source": [
    "Với top 3 khu vực có mức phí thuê trọ thấp nhất, các quận/huyện như Hóc Môn, quận Tân Phú, quận Củ Chi, ta có một số giải thích cho kết quả này như sau:\n",
    "- Hóc Môn, Củ Chi là một khu vực ngoại ô của thành phố Hồ Chí Minh. \n",
    "- Mức độ phát triển công nghiệp và kinh tế thấp hơn so với những khu vực khác trong thành phố. Điều này có thể dẫn đến một khối lượng người thuê trọ thấp hơn, và từ đó dẫn đến mức giá thuê trọ thấp hơn.\n",
    "- Khu vực có tỷ lệ người dân nghèo cao hơn so với một số khu vực khác trong thành phố. Điều này có thể dẫn đến mức giá thuê trọ thấp hơn, vì người cho thuê trọ có thể muốn hạn chế chi phí cho việc thuê trọ để giảm thiểu sự rủi ro cho họ.\n",
    "- Số lượng trọ cơ sở và căn hộ cho thuê lớn hơn so với một số khu vực khác trong thành phố."
   ]
  },
  {
   "cell_type": "markdown",
   "metadata": {},
   "source": [
    "### 4.2. Sự biến thiên về số lượng giữa các nhà trọ mà nam giới và nữ giới có thể thuê được theo từng tiêu chí khác nhau ?\n",
    "\n",
    "Để trả lời cho câu hỏi này, ta sẽ làm như sau:\n",
    "- Bước 1: Tìm các phòng trọ mà nam giới và nữ giới có thể thuê được, lưu vào 2 dataframe `male_avail_df` và `female_avail_df`.\n",
    "- Bước 2: So sánh 2 dataframe của 2 giới tính theo 2 tiêu chí khác nhau: theo giá cả và theo diện tích phòng trọ. Ta sẽ vẽ biểu đồ đường cho tiêu chí giá cả, rồi từ đó vẽ biểu đồ hộp để trực quan mối quan hệ giữa 2 tiêu chí trên từng dataframe."
   ]
  },
  {
   "cell_type": "markdown",
   "metadata": {},
   "source": [
    "Tạo dataframe chứa những phòng trọ mà nam giới có thể thuê:"
   ]
  },
  {
   "cell_type": "code",
   "execution_count": 31,
   "metadata": {},
   "outputs": [
    {
     "data": {
      "text/html": [
       "<div>\n",
       "<style scoped>\n",
       "    .dataframe tbody tr th:only-of-type {\n",
       "        vertical-align: middle;\n",
       "    }\n",
       "\n",
       "    .dataframe tbody tr th {\n",
       "        vertical-align: top;\n",
       "    }\n",
       "\n",
       "    .dataframe thead th {\n",
       "        text-align: right;\n",
       "    }\n",
       "</style>\n",
       "<table border=\"1\" class=\"dataframe\">\n",
       "  <thead>\n",
       "    <tr style=\"text-align: right;\">\n",
       "      <th></th>\n",
       "      <th>Price</th>\n",
       "      <th>Acreage</th>\n",
       "      <th>Tenant</th>\n",
       "    </tr>\n",
       "  </thead>\n",
       "  <tbody>\n",
       "    <tr>\n",
       "      <th>43060</th>\n",
       "      <td>0.16</td>\n",
       "      <td>18.0</td>\n",
       "      <td>Nam</td>\n",
       "    </tr>\n",
       "    <tr>\n",
       "      <th>41408</th>\n",
       "      <td>0.18</td>\n",
       "      <td>25.0</td>\n",
       "      <td>Nam</td>\n",
       "    </tr>\n",
       "    <tr>\n",
       "      <th>42930</th>\n",
       "      <td>0.20</td>\n",
       "      <td>16.0</td>\n",
       "      <td>Nam</td>\n",
       "    </tr>\n",
       "    <tr>\n",
       "      <th>41588</th>\n",
       "      <td>0.25</td>\n",
       "      <td>69.0</td>\n",
       "      <td>Nam</td>\n",
       "    </tr>\n",
       "    <tr>\n",
       "      <th>43016</th>\n",
       "      <td>0.25</td>\n",
       "      <td>25.0</td>\n",
       "      <td>Nam</td>\n",
       "    </tr>\n",
       "    <tr>\n",
       "      <th>...</th>\n",
       "      <td>...</td>\n",
       "      <td>...</td>\n",
       "      <td>...</td>\n",
       "    </tr>\n",
       "    <tr>\n",
       "      <th>23858</th>\n",
       "      <td>430.00</td>\n",
       "      <td>25.0</td>\n",
       "      <td>Nam</td>\n",
       "    </tr>\n",
       "    <tr>\n",
       "      <th>18490</th>\n",
       "      <td>450.00</td>\n",
       "      <td>40.0</td>\n",
       "      <td>Nam</td>\n",
       "    </tr>\n",
       "    <tr>\n",
       "      <th>18260</th>\n",
       "      <td>450.00</td>\n",
       "      <td>40.0</td>\n",
       "      <td>Nam</td>\n",
       "    </tr>\n",
       "    <tr>\n",
       "      <th>18702</th>\n",
       "      <td>500.00</td>\n",
       "      <td>25.0</td>\n",
       "      <td>Nam</td>\n",
       "    </tr>\n",
       "    <tr>\n",
       "      <th>7990</th>\n",
       "      <td>550.00</td>\n",
       "      <td>200.0</td>\n",
       "      <td>Nam</td>\n",
       "    </tr>\n",
       "  </tbody>\n",
       "</table>\n",
       "<p>43184 rows × 3 columns</p>\n",
       "</div>"
      ],
      "text/plain": [
       "        Price  Acreage Tenant\n",
       "43060    0.16     18.0    Nam\n",
       "41408    0.18     25.0    Nam\n",
       "42930    0.20     16.0    Nam\n",
       "41588    0.25     69.0    Nam\n",
       "43016    0.25     25.0    Nam\n",
       "...       ...      ...    ...\n",
       "23858  430.00     25.0    Nam\n",
       "18490  450.00     40.0    Nam\n",
       "18260  450.00     40.0    Nam\n",
       "18702  500.00     25.0    Nam\n",
       "7990   550.00    200.0    Nam\n",
       "\n",
       "[43184 rows x 3 columns]"
      ]
     },
     "execution_count": 31,
     "metadata": {},
     "output_type": "execute_result"
    }
   ],
   "source": [
    "male_avail_df = room_df.query('Tenant == \"Nam\" or Tenant == \"Tat ca\"').reset_index(drop = True)\n",
    "male_avail_df['Tenant'] = male_avail_df['Tenant'].replace('Tat ca', 'Nam')\n",
    "male_avail_df = male_avail_df[['Price', 'Acreage', 'Tenant']]\n",
    "male_avail_df = male_avail_df.sort_values('Price')\n",
    "\n",
    "male_avail_df"
   ]
  },
  {
   "cell_type": "markdown",
   "metadata": {},
   "source": [
    "Tạo dataframe chứa những phòng trọ mà nữ giới có thể thuê:"
   ]
  },
  {
   "cell_type": "code",
   "execution_count": 32,
   "metadata": {},
   "outputs": [
    {
     "data": {
      "text/html": [
       "<div>\n",
       "<style scoped>\n",
       "    .dataframe tbody tr th:only-of-type {\n",
       "        vertical-align: middle;\n",
       "    }\n",
       "\n",
       "    .dataframe tbody tr th {\n",
       "        vertical-align: top;\n",
       "    }\n",
       "\n",
       "    .dataframe thead th {\n",
       "        text-align: right;\n",
       "    }\n",
       "</style>\n",
       "<table border=\"1\" class=\"dataframe\">\n",
       "  <thead>\n",
       "    <tr style=\"text-align: right;\">\n",
       "      <th></th>\n",
       "      <th>Price</th>\n",
       "      <th>Acreage</th>\n",
       "      <th>Tenant</th>\n",
       "    </tr>\n",
       "  </thead>\n",
       "  <tbody>\n",
       "    <tr>\n",
       "      <th>47184</th>\n",
       "      <td>0.16</td>\n",
       "      <td>18.0</td>\n",
       "      <td>Nu</td>\n",
       "    </tr>\n",
       "    <tr>\n",
       "      <th>45348</th>\n",
       "      <td>0.18</td>\n",
       "      <td>25.0</td>\n",
       "      <td>Nu</td>\n",
       "    </tr>\n",
       "    <tr>\n",
       "      <th>47031</th>\n",
       "      <td>0.20</td>\n",
       "      <td>16.0</td>\n",
       "      <td>Nu</td>\n",
       "    </tr>\n",
       "    <tr>\n",
       "      <th>47128</th>\n",
       "      <td>0.25</td>\n",
       "      <td>25.0</td>\n",
       "      <td>Nu</td>\n",
       "    </tr>\n",
       "    <tr>\n",
       "      <th>45612</th>\n",
       "      <td>0.25</td>\n",
       "      <td>12.0</td>\n",
       "      <td>Nu</td>\n",
       "    </tr>\n",
       "    <tr>\n",
       "      <th>...</th>\n",
       "      <td>...</td>\n",
       "      <td>...</td>\n",
       "      <td>...</td>\n",
       "    </tr>\n",
       "    <tr>\n",
       "      <th>19545</th>\n",
       "      <td>450.00</td>\n",
       "      <td>40.0</td>\n",
       "      <td>Nu</td>\n",
       "    </tr>\n",
       "    <tr>\n",
       "      <th>19793</th>\n",
       "      <td>450.00</td>\n",
       "      <td>40.0</td>\n",
       "      <td>Nu</td>\n",
       "    </tr>\n",
       "    <tr>\n",
       "      <th>20038</th>\n",
       "      <td>500.00</td>\n",
       "      <td>25.0</td>\n",
       "      <td>Nu</td>\n",
       "    </tr>\n",
       "    <tr>\n",
       "      <th>8329</th>\n",
       "      <td>550.00</td>\n",
       "      <td>200.0</td>\n",
       "      <td>Nu</td>\n",
       "    </tr>\n",
       "    <tr>\n",
       "      <th>19095</th>\n",
       "      <td>800.00</td>\n",
       "      <td>20.0</td>\n",
       "      <td>Nu</td>\n",
       "    </tr>\n",
       "  </tbody>\n",
       "</table>\n",
       "<p>47343 rows × 3 columns</p>\n",
       "</div>"
      ],
      "text/plain": [
       "        Price  Acreage Tenant\n",
       "47184    0.16     18.0     Nu\n",
       "45348    0.18     25.0     Nu\n",
       "47031    0.20     16.0     Nu\n",
       "47128    0.25     25.0     Nu\n",
       "45612    0.25     12.0     Nu\n",
       "...       ...      ...    ...\n",
       "19545  450.00     40.0     Nu\n",
       "19793  450.00     40.0     Nu\n",
       "20038  500.00     25.0     Nu\n",
       "8329   550.00    200.0     Nu\n",
       "19095  800.00     20.0     Nu\n",
       "\n",
       "[47343 rows x 3 columns]"
      ]
     },
     "execution_count": 32,
     "metadata": {},
     "output_type": "execute_result"
    }
   ],
   "source": [
    "female_avail_df = room_df.query('Tenant == \"Nu\" or Tenant == \"Tat ca\"').reset_index(drop = True)\n",
    "female_avail_df['Tenant'] = female_avail_df['Tenant'].replace('Tat ca', 'Nu')\n",
    "female_avail_df = female_avail_df[['Price', 'Acreage', 'Tenant']]\n",
    "female_avail_df = female_avail_df.sort_values('Price')\n",
    "\n",
    "female_avail_df"
   ]
  },
  {
   "cell_type": "markdown",
   "metadata": {},
   "source": [
    "Ta nhận thấy với cả 2 dataframe trên đều có những phòng trọ có giá thuê rất lớn. Thường giá thuê trọ với mốc 10 triệu đồng sẽ là mức giá khá đắn đo đối với rất nhiều người. Ta sẽ thử tính xem số lượng phòng trọ có giá cho thuê > 10 triệu đồng là bao nhiêu :"
   ]
  },
  {
   "cell_type": "code",
   "execution_count": 33,
   "metadata": {},
   "outputs": [
    {
     "data": {
      "text/plain": [
       "235"
      ]
     },
     "execution_count": 33,
     "metadata": {},
     "output_type": "execute_result"
    }
   ],
   "source": [
    "room_df.query('Price > 10').shape[0]"
   ]
  },
  {
   "cell_type": "markdown",
   "metadata": {},
   "source": [
    "Đúng như dự đoán, số lượng trọ có giá thuê trên 10 triệu đồng là thấp hơn rất nhiều so với các mức giá còn lại. Do đó, để tiện cho việc thống kê, ta sẽ chia giá trị cột 'Price' thành từng khoảng giá khác nhau, mỗi khoảng có độ chênh lệch 1 triệu và khoảng lớn nhất sẽ là những phòng trọ có giá cho thuê >= 10 triệu đồng:"
   ]
  },
  {
   "cell_type": "code",
   "execution_count": 34,
   "metadata": {},
   "outputs": [],
   "source": [
    "def price_range(val):\n",
    "    for i in range(1, 11):\n",
    "        if val < i:\n",
    "            return str(i-1) + '-'+ str(i)\n",
    "    return '>= 10'\n",
    "\n",
    "male_avail_df['Price range'] = male_avail_df['Price'].apply(price_range)\n",
    "female_avail_df['Price range'] = female_avail_df['Price'].apply(price_range)"
   ]
  },
  {
   "cell_type": "markdown",
   "metadata": {},
   "source": [
    "Dataframe của nam giới lúc này:"
   ]
  },
  {
   "cell_type": "code",
   "execution_count": 35,
   "metadata": {},
   "outputs": [
    {
     "data": {
      "text/html": [
       "<div>\n",
       "<style scoped>\n",
       "    .dataframe tbody tr th:only-of-type {\n",
       "        vertical-align: middle;\n",
       "    }\n",
       "\n",
       "    .dataframe tbody tr th {\n",
       "        vertical-align: top;\n",
       "    }\n",
       "\n",
       "    .dataframe thead th {\n",
       "        text-align: right;\n",
       "    }\n",
       "</style>\n",
       "<table border=\"1\" class=\"dataframe\">\n",
       "  <thead>\n",
       "    <tr style=\"text-align: right;\">\n",
       "      <th></th>\n",
       "      <th>Price</th>\n",
       "      <th>Acreage</th>\n",
       "      <th>Tenant</th>\n",
       "      <th>Price range</th>\n",
       "    </tr>\n",
       "  </thead>\n",
       "  <tbody>\n",
       "    <tr>\n",
       "      <th>43060</th>\n",
       "      <td>0.16</td>\n",
       "      <td>18.0</td>\n",
       "      <td>Nam</td>\n",
       "      <td>0-1</td>\n",
       "    </tr>\n",
       "    <tr>\n",
       "      <th>41408</th>\n",
       "      <td>0.18</td>\n",
       "      <td>25.0</td>\n",
       "      <td>Nam</td>\n",
       "      <td>0-1</td>\n",
       "    </tr>\n",
       "    <tr>\n",
       "      <th>42930</th>\n",
       "      <td>0.20</td>\n",
       "      <td>16.0</td>\n",
       "      <td>Nam</td>\n",
       "      <td>0-1</td>\n",
       "    </tr>\n",
       "    <tr>\n",
       "      <th>41588</th>\n",
       "      <td>0.25</td>\n",
       "      <td>69.0</td>\n",
       "      <td>Nam</td>\n",
       "      <td>0-1</td>\n",
       "    </tr>\n",
       "    <tr>\n",
       "      <th>43016</th>\n",
       "      <td>0.25</td>\n",
       "      <td>25.0</td>\n",
       "      <td>Nam</td>\n",
       "      <td>0-1</td>\n",
       "    </tr>\n",
       "    <tr>\n",
       "      <th>...</th>\n",
       "      <td>...</td>\n",
       "      <td>...</td>\n",
       "      <td>...</td>\n",
       "      <td>...</td>\n",
       "    </tr>\n",
       "    <tr>\n",
       "      <th>23858</th>\n",
       "      <td>430.00</td>\n",
       "      <td>25.0</td>\n",
       "      <td>Nam</td>\n",
       "      <td>&gt;= 10</td>\n",
       "    </tr>\n",
       "    <tr>\n",
       "      <th>18490</th>\n",
       "      <td>450.00</td>\n",
       "      <td>40.0</td>\n",
       "      <td>Nam</td>\n",
       "      <td>&gt;= 10</td>\n",
       "    </tr>\n",
       "    <tr>\n",
       "      <th>18260</th>\n",
       "      <td>450.00</td>\n",
       "      <td>40.0</td>\n",
       "      <td>Nam</td>\n",
       "      <td>&gt;= 10</td>\n",
       "    </tr>\n",
       "    <tr>\n",
       "      <th>18702</th>\n",
       "      <td>500.00</td>\n",
       "      <td>25.0</td>\n",
       "      <td>Nam</td>\n",
       "      <td>&gt;= 10</td>\n",
       "    </tr>\n",
       "    <tr>\n",
       "      <th>7990</th>\n",
       "      <td>550.00</td>\n",
       "      <td>200.0</td>\n",
       "      <td>Nam</td>\n",
       "      <td>&gt;= 10</td>\n",
       "    </tr>\n",
       "  </tbody>\n",
       "</table>\n",
       "<p>43184 rows × 4 columns</p>\n",
       "</div>"
      ],
      "text/plain": [
       "        Price  Acreage Tenant Price range\n",
       "43060    0.16     18.0    Nam         0-1\n",
       "41408    0.18     25.0    Nam         0-1\n",
       "42930    0.20     16.0    Nam         0-1\n",
       "41588    0.25     69.0    Nam         0-1\n",
       "43016    0.25     25.0    Nam         0-1\n",
       "...       ...      ...    ...         ...\n",
       "23858  430.00     25.0    Nam       >= 10\n",
       "18490  450.00     40.0    Nam       >= 10\n",
       "18260  450.00     40.0    Nam       >= 10\n",
       "18702  500.00     25.0    Nam       >= 10\n",
       "7990   550.00    200.0    Nam       >= 10\n",
       "\n",
       "[43184 rows x 4 columns]"
      ]
     },
     "execution_count": 35,
     "metadata": {},
     "output_type": "execute_result"
    }
   ],
   "source": [
    "male_avail_df"
   ]
  },
  {
   "cell_type": "markdown",
   "metadata": {},
   "source": [
    "Dataframe của nữ giới lúc này:"
   ]
  },
  {
   "cell_type": "code",
   "execution_count": 36,
   "metadata": {},
   "outputs": [
    {
     "data": {
      "text/html": [
       "<div>\n",
       "<style scoped>\n",
       "    .dataframe tbody tr th:only-of-type {\n",
       "        vertical-align: middle;\n",
       "    }\n",
       "\n",
       "    .dataframe tbody tr th {\n",
       "        vertical-align: top;\n",
       "    }\n",
       "\n",
       "    .dataframe thead th {\n",
       "        text-align: right;\n",
       "    }\n",
       "</style>\n",
       "<table border=\"1\" class=\"dataframe\">\n",
       "  <thead>\n",
       "    <tr style=\"text-align: right;\">\n",
       "      <th></th>\n",
       "      <th>Price</th>\n",
       "      <th>Acreage</th>\n",
       "      <th>Tenant</th>\n",
       "      <th>Price range</th>\n",
       "    </tr>\n",
       "  </thead>\n",
       "  <tbody>\n",
       "    <tr>\n",
       "      <th>47184</th>\n",
       "      <td>0.16</td>\n",
       "      <td>18.0</td>\n",
       "      <td>Nu</td>\n",
       "      <td>0-1</td>\n",
       "    </tr>\n",
       "    <tr>\n",
       "      <th>45348</th>\n",
       "      <td>0.18</td>\n",
       "      <td>25.0</td>\n",
       "      <td>Nu</td>\n",
       "      <td>0-1</td>\n",
       "    </tr>\n",
       "    <tr>\n",
       "      <th>47031</th>\n",
       "      <td>0.20</td>\n",
       "      <td>16.0</td>\n",
       "      <td>Nu</td>\n",
       "      <td>0-1</td>\n",
       "    </tr>\n",
       "    <tr>\n",
       "      <th>47128</th>\n",
       "      <td>0.25</td>\n",
       "      <td>25.0</td>\n",
       "      <td>Nu</td>\n",
       "      <td>0-1</td>\n",
       "    </tr>\n",
       "    <tr>\n",
       "      <th>45612</th>\n",
       "      <td>0.25</td>\n",
       "      <td>12.0</td>\n",
       "      <td>Nu</td>\n",
       "      <td>0-1</td>\n",
       "    </tr>\n",
       "    <tr>\n",
       "      <th>...</th>\n",
       "      <td>...</td>\n",
       "      <td>...</td>\n",
       "      <td>...</td>\n",
       "      <td>...</td>\n",
       "    </tr>\n",
       "    <tr>\n",
       "      <th>19545</th>\n",
       "      <td>450.00</td>\n",
       "      <td>40.0</td>\n",
       "      <td>Nu</td>\n",
       "      <td>&gt;= 10</td>\n",
       "    </tr>\n",
       "    <tr>\n",
       "      <th>19793</th>\n",
       "      <td>450.00</td>\n",
       "      <td>40.0</td>\n",
       "      <td>Nu</td>\n",
       "      <td>&gt;= 10</td>\n",
       "    </tr>\n",
       "    <tr>\n",
       "      <th>20038</th>\n",
       "      <td>500.00</td>\n",
       "      <td>25.0</td>\n",
       "      <td>Nu</td>\n",
       "      <td>&gt;= 10</td>\n",
       "    </tr>\n",
       "    <tr>\n",
       "      <th>8329</th>\n",
       "      <td>550.00</td>\n",
       "      <td>200.0</td>\n",
       "      <td>Nu</td>\n",
       "      <td>&gt;= 10</td>\n",
       "    </tr>\n",
       "    <tr>\n",
       "      <th>19095</th>\n",
       "      <td>800.00</td>\n",
       "      <td>20.0</td>\n",
       "      <td>Nu</td>\n",
       "      <td>&gt;= 10</td>\n",
       "    </tr>\n",
       "  </tbody>\n",
       "</table>\n",
       "<p>47343 rows × 4 columns</p>\n",
       "</div>"
      ],
      "text/plain": [
       "        Price  Acreage Tenant Price range\n",
       "47184    0.16     18.0     Nu         0-1\n",
       "45348    0.18     25.0     Nu         0-1\n",
       "47031    0.20     16.0     Nu         0-1\n",
       "47128    0.25     25.0     Nu         0-1\n",
       "45612    0.25     12.0     Nu         0-1\n",
       "...       ...      ...    ...         ...\n",
       "19545  450.00     40.0     Nu       >= 10\n",
       "19793  450.00     40.0     Nu       >= 10\n",
       "20038  500.00     25.0     Nu       >= 10\n",
       "8329   550.00    200.0     Nu       >= 10\n",
       "19095  800.00     20.0     Nu       >= 10\n",
       "\n",
       "[47343 rows x 4 columns]"
      ]
     },
     "execution_count": 36,
     "metadata": {},
     "output_type": "execute_result"
    }
   ],
   "source": [
    "female_avail_df"
   ]
  },
  {
   "cell_type": "markdown",
   "metadata": {},
   "source": [
    "Vẽ biểu đồ đường thể hiện sự biến thiên số lượng của phòng trọ mà nam giới và nữ giới có thể thuê theo từng mức giá:"
   ]
  },
  {
   "cell_type": "code",
   "execution_count": 37,
   "metadata": {},
   "outputs": [
    {
     "data": {
      "text/plain": [
       "Text(0.5, 1.0, 'Variation of available motels over price ranges')"
      ]
     },
     "execution_count": 37,
     "metadata": {},
     "output_type": "execute_result"
    },
    {
     "data": {
      "image/png": "[encoded data removed]",
      "text/plain": [
       "<Figure size 2000x1000 with 1 Axes>"
      ]
     },
     "metadata": {},
     "output_type": "display_data"
    }
   ],
   "source": [
    "line_female = female_avail_df.groupby('Price range')['Tenant'].value_counts()\n",
    "line_male   = male_avail_df.groupby('Price range')['Tenant'].value_counts()\n",
    "plt.figure(figsize = (20, 10))\n",
    "plt.xlabel('Price range')\n",
    "plt.ylabel('Number of available motels')\n",
    "plt.plot(line_female[:,'Nu'], color = 'r', label = 'Female', linestyle = '-', marker = 'o')\n",
    "plt.plot(line_male[:,'Nam'], color='g', label = 'Male', linestyle = '-', marker = 'o')\n",
    "plt.legend(facecolor = 'white', framealpha = 1, edgecolor = 'black', prop={'size': 20})\n",
    "plt.title('Variation of available motels over price ranges')"
   ]
  },
  {
   "cell_type": "markdown",
   "metadata": {},
   "source": [
    "Nhận xét:\n",
    "- Với những trọ mà nam và nữ có thể ở, số lượng trọ tăng đột biến (xấp xỉ 6 lần từ 2000 lên 12000) qua từng khoảng giá và đỉnh điểm là từ 3-4 triệu đồng, sau đó khi giá càng tăng lên thì số lượng trọ càng giảm mạnh. Có lẽ đây là mức giá phổ biến cho tất cả các trọ trên địa bàn thành phố Hồ Chí Minh.\n",
    "- Số lượng trọ cho nữ luôn luôn nhiều hơn số trọ mà nam có thể thuê, với đỉnh điểm là chênh lệch gần 1500 trọ ở khoảng giá 2-3 triệu.\n",
    "- Từ mức giá 4-5 triệu trở đi, giá càng lớn thì số trọ chênh lệch giữa 2 giới là không đáng kể, có lẽ với mức giá này thì trọ sẽ dành cho cả nam và nữ đều có thể đăng ký được."
   ]
  },
  {
   "cell_type": "markdown",
   "metadata": {},
   "source": [
    "Ta làm tương tự đối với tiêu chí diện tích phòng trọ:"
   ]
  },
  {
   "cell_type": "code",
   "execution_count": 38,
   "metadata": {},
   "outputs": [],
   "source": [
    "def acreage_range(val):\n",
    "    for i in range(1, 21):\n",
    "        if val < i * 10:\n",
    "            return str((i-1) * 10) + '-'+ str(i * 10)\n",
    "    return '>= 200'\n",
    "\n",
    "male_avail_df = male_avail_df.sort_values('Acreage')\n",
    "female_avail_df = female_avail_df.sort_values('Acreage')\n",
    "\n",
    "male_avail_df['Acreage range'] = male_avail_df['Acreage'].apply(acreage_range)\n",
    "female_avail_df['Acreage range'] = female_avail_df['Acreage'].apply(acreage_range)"
   ]
  },
  {
   "cell_type": "markdown",
   "metadata": {},
   "source": [
    "Vẽ biểu đồ đường thể hiện sự biến thiên số lượng của phòng trọ mà nam giới và nữ giới có thể thuê theo từng diện tích:"
   ]
  },
  {
   "cell_type": "code",
   "execution_count": 39,
   "metadata": {},
   "outputs": [
    {
     "data": {
      "text/plain": [
       "Text(0.5, 1.0, 'Variation of available motels over acreage ranges')"
      ]
     },
     "execution_count": 39,
     "metadata": {},
     "output_type": "execute_result"
    },
    {
     "data": {
      "image/png": "[encoded data removed]",
      "text/plain": [
       "<Figure size 2000x1000 with 1 Axes>"
      ]
     },
     "metadata": {},
     "output_type": "display_data"
    }
   ],
   "source": [
    "line_female = female_avail_df.groupby('Acreage range')['Tenant'].value_counts()\n",
    "line_male   = male_avail_df.groupby('Acreage range')['Tenant'].value_counts()\n",
    "ax = plt.subplots(figsize = [20, 10])[1]\n",
    "plt.xlabel('Acreage range')\n",
    "plt.ylabel('Number of available motels')\n",
    "\n",
    "ax.set_xticklabels(list(male_avail_df['Acreage range'].drop_duplicates()))\n",
    "\n",
    "plt.plot(line_female[:,'Nu'], color = 'r', label = 'Female', linestyle = '-', marker = 'o')\n",
    "plt.plot(line_male[:,'Nam'], color='g', label = 'Male', linestyle = '-', marker = 'o')\n",
    "plt.legend(facecolor = 'white', framealpha = 1, edgecolor = 'black', prop={'size': 20})\n",
    "plt.title('Variation of available motels over acreage ranges')"
   ]
  },
  {
   "cell_type": "markdown",
   "metadata": {},
   "source": [
    "Nhận xét:\n",
    "- Số lượng trọ tăng mạnh rồi giảm đột ngột ở 2 đoạn : từ diện tích 0-10 m^2 đến 20-30 ( với đỉnh điểm là 10-20 m^2) và từ diện tích 110-120 m^2 đến 160-170 m^2 (đỉnh điểm là 120-130 m^2). Ở các diện tích còn lại thì số lượng trọ rất ít.\n",
    "- Số lượng trọ cho nữ luôn luôn nhiều hơn số trọ mà nam có thể thuê, với đỉnh điểm là 2 khoảng diện tích đã nêu trên. Tuy nhiên lượng chênh lệch là không quá vượt trội. Điều này thể hiện rằng diện tích trọ sẵn có đối với nam và nữ là tương đương nhau."
   ]
  },
  {
   "cell_type": "markdown",
   "metadata": {},
   "source": [
    "Ta có thể quan sát thêm về mối quan hệ giữa khoảng giá và diện tích trọ đối với từng giới tính bằng biểu đồ hộp. Vì theo biểu đồ trên, số lượng trọ diện tích trên 200 m^2 là rất ít nên ta sẽ quan sát với những trọ bé hơn diện tích đấy:"
   ]
  },
  {
   "cell_type": "code",
   "execution_count": 40,
   "metadata": {},
   "outputs": [
    {
     "data": {
      "text/plain": [
       "Text(0.5, 1.0, 'Variation of Acreage for male motels over price ranges')"
      ]
     },
     "execution_count": 40,
     "metadata": {},
     "output_type": "execute_result"
    },
    {
     "data": {
      "image/png": "[encoded data removed]",
      "text/plain": [
       "<Figure size 2000x1000 with 1 Axes>"
      ]
     },
     "metadata": {},
     "output_type": "display_data"
    }
   ],
   "source": [
    "plt.figure(figsize = (20, 10))\n",
    "sns.boxplot('Price range', 'Acreage', data = male_avail_df[male_avail_df['Acreage'] < 200])\n",
    "plt.title('Variation of Acreage for male motels over price ranges')"
   ]
  },
  {
   "cell_type": "code",
   "execution_count": 41,
   "metadata": {},
   "outputs": [
    {
     "data": {
      "text/plain": [
       "Text(0.5, 1.0, 'Variation of Acreage for female motels over price ranges')"
      ]
     },
     "execution_count": 41,
     "metadata": {},
     "output_type": "execute_result"
    },
    {
     "data": {
      "image/png": "[encoded data removed]",
      "text/plain": [
       "<Figure size 2000x1000 with 1 Axes>"
      ]
     },
     "metadata": {},
     "output_type": "display_data"
    }
   ],
   "source": [
    "plt.subplots(figsize = (20, 10))\n",
    "sns.boxplot('Price range', 'Acreage', data = female_avail_df[female_avail_df['Acreage'] < 200])\n",
    "plt.title('Variation of Acreage for female motels over price ranges')"
   ]
  },
  {
   "cell_type": "markdown",
   "metadata": {},
   "source": [
    "Biểu đồ hộp ở cả 2 giới tính là khá tương tự nhau và đa số các khoảng giá từ 0 - 9 triệu luôn có mật độ diện tích dày đặc. Điều này càng thể hiện đây là mức giá hợp lý với đủ phong phú các loại trọ diện tích khác nhau để cả nam và nữ có thể cân nhắc thuê."
   ]
  }
 ],
 "metadata": {
  "kernelspec": {
   "display_name": "Python 3 (ipykernel)",
   "language": "python",
   "name": "python3"
  },
  "language_info": {
   "codemirror_mode": {
    "name": "ipython",
    "version": 3
   },
   "file_extension": ".py",
   "mimetype": "text/x-python",
   "name": "python",
   "nbconvert_exporter": "python",
   "pygments_lexer": "ipython3",
   "version": "3.8.8"
  },
  "vscode": {
   "interpreter": {
    "hash": "8f8cf99212f81ad0c4765861267244807ee1c18364846cdce387b28994a977ba"
   }
  }
 },
 "nbformat": 4,
 "nbformat_minor": 2
}
