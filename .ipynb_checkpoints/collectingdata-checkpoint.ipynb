{
 "cells": [
  {
   "cell_type": "markdown",
   "id": "d3594243",
   "metadata": {},
   "source": [
    "# THU THẬP DỮ LIỆU"
   ]
  },
  {
   "cell_type": "markdown",
   "id": "b31c1603",
   "metadata": {},
   "source": [
    "### 1. Cài đặt thư viện, import"
   ]
  },
  {
   "cell_type": "code",
   "execution_count": 1,
   "id": "c12ccf57",
   "metadata": {},
   "outputs": [
    {
     "name": "stdout",
     "output_type": "stream",
     "text": [
      "Requirement already satisfied: scrapy in c:\\users\\paraboy\\anaconda3\\lib\\site-packages (2.6.1)\n",
      "Requirement already satisfied: tldextract in c:\\users\\paraboy\\anaconda3\\lib\\site-packages (from scrapy) (3.2.0)\n",
      "Requirement already satisfied: PyDispatcher>=2.0.5 in c:\\users\\paraboy\\anaconda3\\lib\\site-packages (from scrapy) (2.0.5)\n",
      "Requirement already satisfied: itemloaders>=1.0.1 in c:\\users\\paraboy\\anaconda3\\lib\\site-packages (from scrapy) (1.0.4)\n",
      "Requirement already satisfied: service-identity>=16.0.0 in c:\\users\\paraboy\\anaconda3\\lib\\site-packages (from scrapy) (18.1.0)\n",
      "Requirement already satisfied: itemadapter>=0.1.0 in c:\\users\\paraboy\\anaconda3\\lib\\site-packages (from scrapy) (0.3.0)\n",
      "Requirement already satisfied: cssselect>=0.9.1 in c:\\users\\paraboy\\anaconda3\\lib\\site-packages (from scrapy) (1.1.0)\n",
      "Requirement already satisfied: pyOpenSSL>=16.2.0 in c:\\users\\paraboy\\anaconda3\\lib\\site-packages (from scrapy) (21.0.0)\n",
      "Requirement already satisfied: setuptools in c:\\users\\paraboy\\anaconda3\\lib\\site-packages (from scrapy) (61.2.0)\n",
      "Requirement already satisfied: zope.interface>=4.1.3 in c:\\users\\paraboy\\anaconda3\\lib\\site-packages (from scrapy) (5.4.0)\n",
      "Requirement already satisfied: queuelib>=1.4.2 in c:\\users\\paraboy\\anaconda3\\lib\\site-packages (from scrapy) (1.5.0)\n",
      "Requirement already satisfied: w3lib>=1.17.0 in c:\\users\\paraboy\\anaconda3\\lib\\site-packages (from scrapy) (1.21.0)\n",
      "Requirement already satisfied: parsel>=1.5.0 in c:\\users\\paraboy\\anaconda3\\lib\\site-packages (from scrapy) (1.6.0)\n",
      "Requirement already satisfied: protego>=0.1.15 in c:\\users\\paraboy\\anaconda3\\lib\\site-packages (from scrapy) (0.1.16)\n",
      "Requirement already satisfied: lxml>=3.5.0 in c:\\users\\paraboy\\anaconda3\\lib\\site-packages (from scrapy) (4.8.0)\n",
      "Requirement already satisfied: cryptography>=2.0 in c:\\users\\paraboy\\anaconda3\\lib\\site-packages (from scrapy) (3.4.8)\n",
      "Requirement already satisfied: Twisted>=17.9.0 in c:\\users\\paraboy\\anaconda3\\lib\\site-packages (from scrapy) (22.4.0)\n",
      "Requirement already satisfied: cffi>=1.12 in c:\\users\\paraboy\\anaconda3\\lib\\site-packages (from cryptography>=2.0->scrapy) (1.15.0)\n",
      "Requirement already satisfied: pycparser in c:\\users\\paraboy\\anaconda3\\lib\\site-packages (from cffi>=1.12->cryptography>=2.0->scrapy) (2.21)\n",
      "Requirement already satisfied: jmespath>=0.9.5 in c:\\users\\paraboy\\anaconda3\\lib\\site-packages (from itemloaders>=1.0.1->scrapy) (0.10.0)\n",
      "Requirement already satisfied: six>=1.6.0 in c:\\users\\paraboy\\appdata\\roaming\\python\\python39\\site-packages (from parsel>=1.5.0->scrapy) (1.15.0)\n",
      "Requirement already satisfied: attrs>=16.0.0 in c:\\users\\paraboy\\anaconda3\\lib\\site-packages (from service-identity>=16.0.0->scrapy) (21.4.0)\n",
      "Requirement already satisfied: pyasn1 in c:\\users\\paraboy\\anaconda3\\lib\\site-packages (from service-identity>=16.0.0->scrapy) (0.4.8)\n",
      "Requirement already satisfied: pyasn1-modules in c:\\users\\paraboy\\anaconda3\\lib\\site-packages (from service-identity>=16.0.0->scrapy) (0.2.8)\n",
      "Requirement already satisfied: typing-extensions>=3.6.5 in c:\\users\\paraboy\\anaconda3\\lib\\site-packages (from Twisted>=17.9.0->scrapy) (4.1.1)\n",
      "Requirement already satisfied: twisted-iocpsupport<2,>=1.0.2 in c:\\users\\paraboy\\anaconda3\\lib\\site-packages (from Twisted>=17.9.0->scrapy) (1.0.2)\n",
      "Requirement already satisfied: constantly>=15.1 in c:\\users\\paraboy\\anaconda3\\lib\\site-packages (from Twisted>=17.9.0->scrapy) (15.1.0)\n",
      "Requirement already satisfied: Automat>=0.8.0 in c:\\users\\paraboy\\anaconda3\\lib\\site-packages (from Twisted>=17.9.0->scrapy) (20.2.0)\n",
      "Requirement already satisfied: hyperlink>=17.1.1 in c:\\users\\paraboy\\anaconda3\\lib\\site-packages (from Twisted>=17.9.0->scrapy) (21.0.0)\n",
      "Requirement already satisfied: incremental>=21.3.0 in c:\\users\\paraboy\\anaconda3\\lib\\site-packages (from Twisted>=17.9.0->scrapy) (21.3.0)\n",
      "Requirement already satisfied: idna>=2.5 in c:\\users\\paraboy\\anaconda3\\lib\\site-packages (from hyperlink>=17.1.1->Twisted>=17.9.0->scrapy) (3.3)\n",
      "Requirement already satisfied: filelock>=3.0.8 in c:\\users\\paraboy\\anaconda3\\lib\\site-packages (from tldextract->scrapy) (3.6.0)\n",
      "Requirement already satisfied: requests>=2.1.0 in c:\\users\\paraboy\\anaconda3\\lib\\site-packages (from tldextract->scrapy) (2.27.1)\n",
      "Requirement already satisfied: requests-file>=1.4 in c:\\users\\paraboy\\anaconda3\\lib\\site-packages (from tldextract->scrapy) (1.5.1)\n",
      "Requirement already satisfied: certifi>=2017.4.17 in c:\\users\\paraboy\\anaconda3\\lib\\site-packages (from requests>=2.1.0->tldextract->scrapy) (2022.9.24)\n",
      "Requirement already satisfied: charset-normalizer~=2.0.0 in c:\\users\\paraboy\\anaconda3\\lib\\site-packages (from requests>=2.1.0->tldextract->scrapy) (2.0.4)\n",
      "Requirement already satisfied: urllib3<1.27,>=1.21.1 in c:\\users\\paraboy\\anaconda3\\lib\\site-packages (from requests>=2.1.0->tldextract->scrapy) (1.26.9)\n",
      "Requirement already satisfied: spider3 in c:\\users\\paraboy\\anaconda3\\lib\\site-packages (1.0.2)\n"
     ]
    }
   ],
   "source": [
    "!pip install scrapy\n",
    "!pip install spider3"
   ]
  },
  {
   "cell_type": "markdown",
   "id": "cdbde11c",
   "metadata": {},
   "source": [
    "### 2. Tạo project"
   ]
  },
  {
   "cell_type": "code",
   "execution_count": 2,
   "id": "e6fc3b0b",
   "metadata": {},
   "outputs": [
    {
     "name": "stdout",
     "output_type": "stream",
     "text": [
      "Error: scrapy.cfg already exists in C:\\Users\\ParaboY\\Desktop\\LTKHDL_Project_Phongtro\\phongtro123\n"
     ]
    }
   ],
   "source": [
    "!scrapy startproject phongtro123"
   ]
  },
  {
   "cell_type": "code",
   "execution_count": 3,
   "id": "6df66835",
   "metadata": {},
   "outputs": [
    {
     "name": "stdout",
     "output_type": "stream",
     "text": [
      "C:\\Users\\ParaboY\\Desktop\\LTKHDL_Project_Phongtro\\phongtro123\\phongtro123\n"
     ]
    }
   ],
   "source": [
    "cd phongtro123\\phongtro123"
   ]
  },
  {
   "cell_type": "markdown",
   "id": "9c2dcabd",
   "metadata": {},
   "source": [
    "Collect URL"
   ]
  },
  {
   "cell_type": "code",
   "execution_count": 4,
   "id": "67b39b1b",
   "metadata": {},
   "outputs": [],
   "source": [
    "import scrapy\n",
    "import re\n",
    "\n",
    "class Phongtro123Spider(scrapy.Spider):\n",
    "    name = 'phongtro123_get_url'\n",
    "    start_urls = ['https://phongtro123.com/tinh-thanh/ho-chi-minh?page=1']\n",
    "    \n",
    "    def __init__(self):\n",
    "        self.page_count = 1\n",
    "        self.end_page =0\n",
    "\n",
    "    def parse(self, response):\n",
    "        for item in response.css('div.post-meta'):\n",
    "            link=item.css('a::attr(href)').get()\n",
    "            if link!=None:\n",
    "                yield {\n",
    "                    'link':'https://phongtro123.com'+ link\n",
    "                }\n",
    "            #print(link)\n",
    "        \n",
    "        if self.page_count == 1:\n",
    "            end_page = response.css('#left-col > ul > li:nth-child(6) > a').attrib['href']\n",
    "            end_page=int(re.findall('[0-9]+',end_page)[-1])\n",
    "            self.end_page=end_page\n",
    "        \n",
    "        self.page_count=self.page_count+1\n",
    "        if self.page_count<=self.end_page:\n",
    "            next_page='https://phongtro123.com/tinh-thanh/ho-chi-minh?page='+ str(self.page_count)\n",
    "            yield scrapy.Request(response.urljoin(next_page), callback=self.parse)\n",
    "            \n",
    "        print('Number of page:'+str(end_page))\n"
   ]
  },
  {
   "cell_type": "markdown",
   "id": "b4f84756",
   "metadata": {},
   "source": [
    "### 3. Scraping data"
   ]
  },
  {
   "cell_type": "code",
   "execution_count": 6,
   "id": "5da59778",
   "metadata": {},
   "outputs": [
    {
     "name": "stdout",
     "output_type": "stream",
     "text": [
      "hits\n"
     ]
    },
    {
     "name": "stderr",
     "output_type": "stream",
     "text": [
      "2023-01-05 14:03:51 [scrapy.utils.log] INFO: Scrapy 2.6.1 started (bot: phongtro123)\n",
      "2023-01-05 14:03:51 [scrapy.utils.log] INFO: Versions: lxml 4.8.0.0, libxml2 2.9.12, cssselect 1.1.0, parsel 1.6.0, w3lib 1.21.0, Twisted 22.4.0, Python 3.9.12 (main, Apr  4 2022, 05:22:27) [MSC v.1916 64 bit (AMD64)], pyOpenSSL 21.0.0 (OpenSSL 1.1.1q  5 Jul 2022), cryptography 3.4.8, Platform Windows-10-10.0.22000-SP0\n",
      "2023-01-05 14:03:51 [scrapy.crawler] INFO: Overridden settings:\n",
      "{'BOT_NAME': 'phongtro123',\n",
      " 'NEWSPIDER_MODULE': 'phongtro123.spiders',\n",
      " 'ROBOTSTXT_OBEY': True,\n",
      " 'SPIDER_MODULES': ['phongtro123.spiders']}\n",
      "2023-01-05 14:03:51 [scrapy.utils.log] DEBUG: Using reactor: twisted.internet.selectreactor.SelectReactor\n",
      "2023-01-05 14:03:51 [scrapy.extensions.telnet] INFO: Telnet Password: 116307cafa98f49d\n",
      "2023-01-05 14:03:51 [scrapy.middleware] INFO: Enabled extensions:\n",
      "['scrapy.extensions.corestats.CoreStats',\n",
      " 'scrapy.extensions.telnet.TelnetConsole',\n",
      " 'scrapy.extensions.feedexport.FeedExporter',\n",
      " 'scrapy.extensions.logstats.LogStats']\n",
      "2023-01-05 14:03:52 [scrapy.middleware] INFO: Enabled downloader middlewares:\n",
      "['scrapy.downloadermiddlewares.robotstxt.RobotsTxtMiddleware',\n",
      " 'scrapy.downloadermiddlewares.httpauth.HttpAuthMiddleware',\n",
      " 'scrapy.downloadermiddlewares.downloadtimeout.DownloadTimeoutMiddleware',\n",
      " 'scrapy.downloadermiddlewares.defaultheaders.DefaultHeadersMiddleware',\n",
      " 'scrapy.downloadermiddlewares.useragent.UserAgentMiddleware',\n",
      " 'scrapy.downloadermiddlewares.retry.RetryMiddleware',\n",
      " 'scrapy.downloadermiddlewares.redirect.MetaRefreshMiddleware',\n",
      " 'scrapy.downloadermiddlewares.httpcompression.HttpCompressionMiddleware',\n",
      " 'scrapy.downloadermiddlewares.redirect.RedirectMiddleware',\n",
      " 'scrapy.downloadermiddlewares.cookies.CookiesMiddleware',\n",
      " 'scrapy.downloadermiddlewares.httpproxy.HttpProxyMiddleware',\n",
      " 'scrapy.downloadermiddlewares.stats.DownloaderStats']\n",
      "2023-01-05 14:03:52 [scrapy.middleware] INFO: Enabled spider middlewares:\n",
      "['scrapy.spidermiddlewares.httperror.HttpErrorMiddleware',\n",
      " 'scrapy.spidermiddlewares.offsite.OffsiteMiddleware',\n",
      " 'scrapy.spidermiddlewares.referer.RefererMiddleware',\n",
      " 'scrapy.spidermiddlewares.urllength.UrlLengthMiddleware',\n",
      " 'scrapy.spidermiddlewares.depth.DepthMiddleware']\n",
      "2023-01-05 14:03:52 [scrapy.middleware] INFO: Enabled item pipelines:\n",
      "[]\n",
      "2023-01-05 14:03:52 [scrapy.core.engine] INFO: Spider opened\n",
      "2023-01-05 14:03:52 [scrapy.extensions.logstats] INFO: Crawled 0 pages (at 0 pages/min), scraped 0 items (at 0 items/min)\n",
      "2023-01-05 14:03:52 [scrapy.extensions.telnet] INFO: Telnet console listening on 127.0.0.1:6027\n",
      "2023-01-05 14:03:52 [scrapy.core.engine] DEBUG: Crawled (200) <GET https://phongtro123.com/robots.txt> (referer: None)\n",
      "2023-01-05 14:03:54 [filelock] DEBUG: Attempting to acquire lock 1498758395408 on C:\\Users\\ParaboY\\anaconda3\\lib\\site-packages\\tldextract\\.suffix_cache/publicsuffix.org-tlds\\de84b5ca2167d4c83e38fb162f2e8738.tldextract.json.lock\n",
      "2023-01-05 14:03:54 [filelock] DEBUG: Lock 1498758395408 acquired on C:\\Users\\ParaboY\\anaconda3\\lib\\site-packages\\tldextract\\.suffix_cache/publicsuffix.org-tlds\\de84b5ca2167d4c83e38fb162f2e8738.tldextract.json.lock\n",
      "2023-01-05 14:03:54 [filelock] DEBUG: Attempting to acquire lock 1498758407024 on C:\\Users\\ParaboY\\anaconda3\\lib\\site-packages\\tldextract\\.suffix_cache/urls\\62bf135d1c2f3d4db4228b9ecaf507a2.tldextract.json.lock\n",
      "2023-01-05 14:03:54 [filelock] DEBUG: Lock 1498758407024 acquired on C:\\Users\\ParaboY\\anaconda3\\lib\\site-packages\\tldextract\\.suffix_cache/urls\\62bf135d1c2f3d4db4228b9ecaf507a2.tldextract.json.lock\n",
      "2023-01-05 14:03:54 [filelock] DEBUG: Attempting to release lock 1498758407024 on C:\\Users\\ParaboY\\anaconda3\\lib\\site-packages\\tldextract\\.suffix_cache/urls\\62bf135d1c2f3d4db4228b9ecaf507a2.tldextract.json.lock\n",
      "2023-01-05 14:03:54 [filelock] DEBUG: Lock 1498758407024 released on C:\\Users\\ParaboY\\anaconda3\\lib\\site-packages\\tldextract\\.suffix_cache/urls\\62bf135d1c2f3d4db4228b9ecaf507a2.tldextract.json.lock\n",
      "2023-01-05 14:03:54 [filelock] DEBUG: Attempting to release lock 1498758395408 on C:\\Users\\ParaboY\\anaconda3\\lib\\site-packages\\tldextract\\.suffix_cache/publicsuffix.org-tlds\\de84b5ca2167d4c83e38fb162f2e8738.tldextract.json.lock\n",
      "2023-01-05 14:03:54 [filelock] DEBUG: Lock 1498758395408 released on C:\\Users\\ParaboY\\anaconda3\\lib\\site-packages\\tldextract\\.suffix_cache/publicsuffix.org-tlds\\de84b5ca2167d4c83e38fb162f2e8738.tldextract.json.lock\n",
      "2023-01-05 14:03:54 [scrapy.core.engine] DEBUG: Crawled (200) <GET https://phongtro123.com/tinh-thanh/ho-chi-minh?page=1> (referer: None)\n",
      "2023-01-05 14:03:54 [scrapy.core.scraper] ERROR: Spider must return request, item, or None, got 'set' in <GET https://phongtro123.com/tinh-thanh/ho-chi-minh?page=1>\n",
      "2023-01-05 14:03:54 [scrapy.core.scraper] ERROR: Spider must return request, item, or None, got 'set' in <GET https://phongtro123.com/tinh-thanh/ho-chi-minh?page=1>\n",
      "2023-01-05 14:03:54 [scrapy.core.scraper] ERROR: Spider must return request, item, or None, got 'set' in <GET https://phongtro123.com/tinh-thanh/ho-chi-minh?page=1>\n",
      "2023-01-05 14:03:54 [scrapy.core.scraper] ERROR: Spider must return request, item, or None, got 'set' in <GET https://phongtro123.com/tinh-thanh/ho-chi-minh?page=1>\n",
      "2023-01-05 14:03:54 [scrapy.core.scraper] ERROR: Spider must return request, item, or None, got 'set' in <GET https://phongtro123.com/tinh-thanh/ho-chi-minh?page=1>\n",
      "2023-01-05 14:03:54 [scrapy.core.scraper] ERROR: Spider must return request, item, or None, got 'set' in <GET https://phongtro123.com/tinh-thanh/ho-chi-minh?page=1>\n",
      "2023-01-05 14:03:54 [scrapy.core.scraper] ERROR: Spider must return request, item, or None, got 'set' in <GET https://phongtro123.com/tinh-thanh/ho-chi-minh?page=1>\n",
      "2023-01-05 14:03:54 [scrapy.core.scraper] ERROR: Spider must return request, item, or None, got 'set' in <GET https://phongtro123.com/tinh-thanh/ho-chi-minh?page=1>\n",
      "2023-01-05 14:03:54 [scrapy.core.scraper] ERROR: Spider must return request, item, or None, got 'set' in <GET https://phongtro123.com/tinh-thanh/ho-chi-minh?page=1>\n",
      "2023-01-05 14:03:54 [scrapy.core.scraper] ERROR: Spider must return request, item, or None, got 'set' in <GET https://phongtro123.com/tinh-thanh/ho-chi-minh?page=1>\n",
      "2023-01-05 14:03:54 [scrapy.core.scraper] ERROR: Spider must return request, item, or None, got 'set' in <GET https://phongtro123.com/tinh-thanh/ho-chi-minh?page=1>\n",
      "2023-01-05 14:03:54 [scrapy.core.scraper] ERROR: Spider must return request, item, or None, got 'set' in <GET https://phongtro123.com/tinh-thanh/ho-chi-minh?page=1>\n",
      "2023-01-05 14:03:54 [scrapy.core.scraper] ERROR: Spider must return request, item, or None, got 'set' in <GET https://phongtro123.com/tinh-thanh/ho-chi-minh?page=1>\n",
      "2023-01-05 14:03:54 [scrapy.core.scraper] ERROR: Spider must return request, item, or None, got 'set' in <GET https://phongtro123.com/tinh-thanh/ho-chi-minh?page=1>\n",
      "2023-01-05 14:03:54 [scrapy.core.scraper] ERROR: Spider must return request, item, or None, got 'set' in <GET https://phongtro123.com/tinh-thanh/ho-chi-minh?page=1>\n",
      "2023-01-05 14:03:54 [scrapy.core.scraper] ERROR: Spider must return request, item, or None, got 'set' in <GET https://phongtro123.com/tinh-thanh/ho-chi-minh?page=1>\n",
      "2023-01-05 14:03:54 [scrapy.core.scraper] ERROR: Spider must return request, item, or None, got 'set' in <GET https://phongtro123.com/tinh-thanh/ho-chi-minh?page=1>\n",
      "2023-01-05 14:03:54 [scrapy.core.scraper] ERROR: Spider must return request, item, or None, got 'set' in <GET https://phongtro123.com/tinh-thanh/ho-chi-minh?page=1>\n",
      "2023-01-05 14:03:54 [scrapy.core.scraper] ERROR: Spider must return request, item, or None, got 'set' in <GET https://phongtro123.com/tinh-thanh/ho-chi-minh?page=1>\n",
      "2023-01-05 14:03:54 [scrapy.core.scraper] ERROR: Spider must return request, item, or None, got 'set' in <GET https://phongtro123.com/tinh-thanh/ho-chi-minh?page=1>\n",
      "2023-01-05 14:03:54 [scrapy.core.engine] INFO: Closing spider (finished)\n",
      "2023-01-05 14:03:54 [scrapy.statscollectors] INFO: Dumping Scrapy stats:\n",
      "{'downloader/request_bytes': 477,\n",
      " 'downloader/request_count': 2,\n",
      " 'downloader/request_method_count/GET': 2,\n",
      " 'downloader/response_bytes': 22816,\n",
      " 'downloader/response_count': 2,\n",
      " 'downloader/response_status_count/200': 2,\n",
      " 'elapsed_time_seconds': 2.291979,\n",
      " 'finish_reason': 'finished',\n",
      " 'finish_time': datetime.datetime(2023, 1, 5, 7, 3, 54, 479797),\n",
      " 'httpcompression/response_bytes': 153415,\n",
      " 'httpcompression/response_count': 2,\n",
      " 'log_count/DEBUG': 11,\n",
      " 'log_count/ERROR': 20,\n",
      " 'log_count/INFO': 10,\n",
      " 'response_received_count': 2,\n",
      " 'robotstxt/request_count': 1,\n",
      " 'robotstxt/response_count': 1,\n",
      " 'robotstxt/response_status_count/200': 1,\n",
      " 'scheduler/dequeued': 1,\n",
      " 'scheduler/dequeued/memory': 1,\n",
      " 'scheduler/enqueued': 1,\n",
      " 'scheduler/enqueued/memory': 1,\n",
      " 'start_time': datetime.datetime(2023, 1, 5, 7, 3, 52, 187818)}\n",
      "2023-01-05 14:03:54 [scrapy.core.engine] INFO: Spider closed (finished)\n"
     ]
    }
   ],
   "source": [
    "!scrapy crawl phongtro123_get_url -o dataset/post_url.json"
   ]
  },
  {
   "cell_type": "code",
   "execution_count": null,
   "id": "40606711",
   "metadata": {},
   "outputs": [],
   "source": []
  }
 ],
 "metadata": {
  "kernelspec": {
   "display_name": "Python 3",
   "language": "python",
   "name": "python3"
  },
  "language_info": {
   "codemirror_mode": {
    "name": "ipython",
    "version": 3
   },
   "file_extension": ".py",
   "mimetype": "text/x-python",
   "name": "python",
   "nbconvert_exporter": "python",
   "pygments_lexer": "ipython3",
   "version": "3.9.12"
  }
 },
 "nbformat": 4,
 "nbformat_minor": 5
}
